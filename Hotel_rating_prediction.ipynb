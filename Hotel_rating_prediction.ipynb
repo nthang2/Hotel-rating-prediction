{
 "cells": [
  {
   "cell_type": "markdown",
   "id": "d0ee51bd-9ce1-4f40-9cb5-a08eb89bf795",
   "metadata": {},
   "source": []
  },
  {
   "attachments": {},
   "cell_type": "markdown",
   "id": "94b9209e",
   "metadata": {},
   "source": [
    "## 1. Import and load dataset"
   ]
  },
  {
   "cell_type": "code",
   "execution_count": 5,
   "id": "446a0a64",
   "metadata": {},
   "outputs": [],
   "source": [
    "import pandas as pd\n",
    "import numpy as np \n",
    "# We'll also import seaborn, a Python graphing library\n",
    "import seaborn as sns\n",
    "import warnings # current version of seaborn generates a bunch of warnings that we'll ignore\n",
    "warnings.filterwarnings(\"ignore\")\n",
    "import matplotlib.pyplot as plt"
   ]
  },
  {
   "cell_type": "code",
   "execution_count": 6,
   "id": "74cbaa76",
   "metadata": {},
   "outputs": [],
   "source": [
    "df = pd.read_csv('tripadvisor_hotel_reviews.csv')"
   ]
  },
  {
   "attachments": {},
   "cell_type": "markdown",
   "id": "ad040575",
   "metadata": {},
   "source": [
    "## 2. Overview Data"
   ]
  },
  {
   "cell_type": "code",
   "execution_count": 7,
   "id": "c973427e",
   "metadata": {
    "scrolled": true
   },
   "outputs": [
    {
     "data": {
      "text/html": [
       "<div>\n",
       "<style scoped>\n",
       "    .dataframe tbody tr th:only-of-type {\n",
       "        vertical-align: middle;\n",
       "    }\n",
       "\n",
       "    .dataframe tbody tr th {\n",
       "        vertical-align: top;\n",
       "    }\n",
       "\n",
       "    .dataframe thead th {\n",
       "        text-align: right;\n",
       "    }\n",
       "</style>\n",
       "<table border=\"1\" class=\"dataframe\">\n",
       "  <thead>\n",
       "    <tr style=\"text-align: right;\">\n",
       "      <th></th>\n",
       "      <th>Review</th>\n",
       "      <th>Rating</th>\n",
       "    </tr>\n",
       "  </thead>\n",
       "  <tbody>\n",
       "    <tr>\n",
       "      <th>0</th>\n",
       "      <td>nice hotel expensive parking got good deal sta...</td>\n",
       "      <td>4</td>\n",
       "    </tr>\n",
       "    <tr>\n",
       "      <th>1</th>\n",
       "      <td>ok nothing special charge diamond member hilto...</td>\n",
       "      <td>2</td>\n",
       "    </tr>\n",
       "    <tr>\n",
       "      <th>2</th>\n",
       "      <td>nice rooms not 4* experience hotel monaco seat...</td>\n",
       "      <td>3</td>\n",
       "    </tr>\n",
       "    <tr>\n",
       "      <th>3</th>\n",
       "      <td>unique, great stay, wonderful time hotel monac...</td>\n",
       "      <td>5</td>\n",
       "    </tr>\n",
       "    <tr>\n",
       "      <th>4</th>\n",
       "      <td>great stay great stay, went seahawk game aweso...</td>\n",
       "      <td>5</td>\n",
       "    </tr>\n",
       "  </tbody>\n",
       "</table>\n",
       "</div>"
      ],
      "text/plain": [
       "                                              Review  Rating\n",
       "0  nice hotel expensive parking got good deal sta...       4\n",
       "1  ok nothing special charge diamond member hilto...       2\n",
       "2  nice rooms not 4* experience hotel monaco seat...       3\n",
       "3  unique, great stay, wonderful time hotel monac...       5\n",
       "4  great stay great stay, went seahawk game aweso...       5"
      ]
     },
     "execution_count": 7,
     "metadata": {},
     "output_type": "execute_result"
    }
   ],
   "source": [
    "df.head()"
   ]
  },
  {
   "cell_type": "code",
   "execution_count": 8,
   "id": "d2834907",
   "metadata": {},
   "outputs": [
    {
     "data": {
      "text/plain": [
       "(20491, 2)"
      ]
     },
     "execution_count": 8,
     "metadata": {},
     "output_type": "execute_result"
    }
   ],
   "source": [
    "df.shape"
   ]
  },
  {
   "cell_type": "markdown",
   "id": "f94c596a-d998-4e6f-9ee6-c46e3faf8933",
   "metadata": {},
   "source": [
    "## 3. Perform EDA"
   ]
  },
  {
   "cell_type": "code",
   "execution_count": 9,
   "id": "35f20e27-f592-4681-ab25-45ee27056017",
   "metadata": {},
   "outputs": [
    {
     "data": {
      "text/html": [
       "<div>\n",
       "<style scoped>\n",
       "    .dataframe tbody tr th:only-of-type {\n",
       "        vertical-align: middle;\n",
       "    }\n",
       "\n",
       "    .dataframe tbody tr th {\n",
       "        vertical-align: top;\n",
       "    }\n",
       "\n",
       "    .dataframe thead th {\n",
       "        text-align: right;\n",
       "    }\n",
       "</style>\n",
       "<table border=\"1\" class=\"dataframe\">\n",
       "  <thead>\n",
       "    <tr style=\"text-align: right;\">\n",
       "      <th></th>\n",
       "      <th>Rating</th>\n",
       "    </tr>\n",
       "  </thead>\n",
       "  <tbody>\n",
       "    <tr>\n",
       "      <th>count</th>\n",
       "      <td>20491.000000</td>\n",
       "    </tr>\n",
       "    <tr>\n",
       "      <th>mean</th>\n",
       "      <td>3.952223</td>\n",
       "    </tr>\n",
       "    <tr>\n",
       "      <th>std</th>\n",
       "      <td>1.233030</td>\n",
       "    </tr>\n",
       "    <tr>\n",
       "      <th>min</th>\n",
       "      <td>1.000000</td>\n",
       "    </tr>\n",
       "    <tr>\n",
       "      <th>25%</th>\n",
       "      <td>3.000000</td>\n",
       "    </tr>\n",
       "    <tr>\n",
       "      <th>50%</th>\n",
       "      <td>4.000000</td>\n",
       "    </tr>\n",
       "    <tr>\n",
       "      <th>75%</th>\n",
       "      <td>5.000000</td>\n",
       "    </tr>\n",
       "    <tr>\n",
       "      <th>max</th>\n",
       "      <td>5.000000</td>\n",
       "    </tr>\n",
       "  </tbody>\n",
       "</table>\n",
       "</div>"
      ],
      "text/plain": [
       "             Rating\n",
       "count  20491.000000\n",
       "mean       3.952223\n",
       "std        1.233030\n",
       "min        1.000000\n",
       "25%        3.000000\n",
       "50%        4.000000\n",
       "75%        5.000000\n",
       "max        5.000000"
      ]
     },
     "execution_count": 9,
     "metadata": {},
     "output_type": "execute_result"
    }
   ],
   "source": [
    "df.describe()"
   ]
  },
  {
   "cell_type": "code",
   "execution_count": 10,
   "id": "ab98d675-fe8b-4156-87a2-d9ed08bb1aa3",
   "metadata": {},
   "outputs": [
    {
     "data": {
      "text/html": [
       "<div>\n",
       "<style scoped>\n",
       "    .dataframe tbody tr th:only-of-type {\n",
       "        vertical-align: middle;\n",
       "    }\n",
       "\n",
       "    .dataframe tbody tr th {\n",
       "        vertical-align: top;\n",
       "    }\n",
       "\n",
       "    .dataframe thead th {\n",
       "        text-align: right;\n",
       "    }\n",
       "</style>\n",
       "<table border=\"1\" class=\"dataframe\">\n",
       "  <thead>\n",
       "    <tr style=\"text-align: right;\">\n",
       "      <th></th>\n",
       "      <th>Review</th>\n",
       "      <th>Rating</th>\n",
       "    </tr>\n",
       "  </thead>\n",
       "  <tbody>\n",
       "    <tr>\n",
       "      <th>0</th>\n",
       "      <td>False</td>\n",
       "      <td>False</td>\n",
       "    </tr>\n",
       "    <tr>\n",
       "      <th>1</th>\n",
       "      <td>False</td>\n",
       "      <td>False</td>\n",
       "    </tr>\n",
       "    <tr>\n",
       "      <th>2</th>\n",
       "      <td>False</td>\n",
       "      <td>False</td>\n",
       "    </tr>\n",
       "    <tr>\n",
       "      <th>3</th>\n",
       "      <td>False</td>\n",
       "      <td>False</td>\n",
       "    </tr>\n",
       "    <tr>\n",
       "      <th>4</th>\n",
       "      <td>False</td>\n",
       "      <td>False</td>\n",
       "    </tr>\n",
       "    <tr>\n",
       "      <th>...</th>\n",
       "      <td>...</td>\n",
       "      <td>...</td>\n",
       "    </tr>\n",
       "    <tr>\n",
       "      <th>20486</th>\n",
       "      <td>False</td>\n",
       "      <td>False</td>\n",
       "    </tr>\n",
       "    <tr>\n",
       "      <th>20487</th>\n",
       "      <td>False</td>\n",
       "      <td>False</td>\n",
       "    </tr>\n",
       "    <tr>\n",
       "      <th>20488</th>\n",
       "      <td>False</td>\n",
       "      <td>False</td>\n",
       "    </tr>\n",
       "    <tr>\n",
       "      <th>20489</th>\n",
       "      <td>False</td>\n",
       "      <td>False</td>\n",
       "    </tr>\n",
       "    <tr>\n",
       "      <th>20490</th>\n",
       "      <td>False</td>\n",
       "      <td>False</td>\n",
       "    </tr>\n",
       "  </tbody>\n",
       "</table>\n",
       "<p>20491 rows × 2 columns</p>\n",
       "</div>"
      ],
      "text/plain": [
       "       Review  Rating\n",
       "0       False   False\n",
       "1       False   False\n",
       "2       False   False\n",
       "3       False   False\n",
       "4       False   False\n",
       "...       ...     ...\n",
       "20486   False   False\n",
       "20487   False   False\n",
       "20488   False   False\n",
       "20489   False   False\n",
       "20490   False   False\n",
       "\n",
       "[20491 rows x 2 columns]"
      ]
     },
     "execution_count": 10,
     "metadata": {},
     "output_type": "execute_result"
    }
   ],
   "source": [
    "df.isnull()"
   ]
  },
  {
   "cell_type": "code",
   "execution_count": 11,
   "id": "88efbade-c59e-45a0-a005-f06ebd8cc525",
   "metadata": {},
   "outputs": [
    {
     "data": {
      "text/plain": [
       "Review    0\n",
       "Rating    0\n",
       "dtype: int64"
      ]
     },
     "execution_count": 11,
     "metadata": {},
     "output_type": "execute_result"
    }
   ],
   "source": [
    "df.isnull().sum()"
   ]
  },
  {
   "cell_type": "code",
   "execution_count": 12,
   "id": "46bcdb74-a42e-46d1-9b31-42f7810ef0dd",
   "metadata": {},
   "outputs": [
    {
     "data": {
      "text/plain": [
       "<Axes: xlabel='Rating'>"
      ]
     },
     "execution_count": 12,
     "metadata": {},
     "output_type": "execute_result"
    },
    {
     "data": {
      "image/png": "[encoded data removed]",
      "text/plain": [
       "<Figure size 640x480 with 1 Axes>"
      ]
     },
     "metadata": {},
     "output_type": "display_data"
    }
   ],
   "source": [
    "sns.boxplot(x = df['Rating'])"
   ]
  },
  {
   "cell_type": "markdown",
   "id": "96efa204-736c-456f-872d-f8f29be9a00d",
   "metadata": {},
   "source": [
    "No outline in dataset"
   ]
  },
  {
   "cell_type": "code",
   "execution_count": 13,
   "id": "00497eb5-0b9d-4a86-9dd1-5a3935bce35d",
   "metadata": {},
   "outputs": [
    {
     "data": {
      "text/plain": [
       "<Axes: xlabel='Rating', ylabel='count'>"
      ]
     },
     "execution_count": 13,
     "metadata": {},
     "output_type": "execute_result"
    },
    {
     "data": {
      "image/png": "[encoded data removed]",
      "text/plain": [
       "<Figure size 640x480 with 1 Axes>"
      ]
     },
     "metadata": {},
     "output_type": "display_data"
    }
   ],
   "source": [
    "sns.set_theme(style=\"white\", color_codes=True)\n",
    "sns.countplot(x = df['Rating'], palette=['pink', 'Aqua','coral','teal', 'lime']) "
   ]
  },
  {
   "cell_type": "code",
   "execution_count": 14,
   "id": "65511dff-91d4-437c-ae5d-c9f12af7eb0f",
   "metadata": {},
   "outputs": [
    {
     "data": {
      "text/html": [
       "<div>\n",
       "<style scoped>\n",
       "    .dataframe tbody tr th:only-of-type {\n",
       "        vertical-align: middle;\n",
       "    }\n",
       "\n",
       "    .dataframe tbody tr th {\n",
       "        vertical-align: top;\n",
       "    }\n",
       "\n",
       "    .dataframe thead th {\n",
       "        text-align: right;\n",
       "    }\n",
       "</style>\n",
       "<table border=\"1\" class=\"dataframe\">\n",
       "  <thead>\n",
       "    <tr style=\"text-align: right;\">\n",
       "      <th></th>\n",
       "      <th>Review</th>\n",
       "      <th>Rating</th>\n",
       "      <th>Word_count</th>\n",
       "    </tr>\n",
       "  </thead>\n",
       "  <tbody>\n",
       "    <tr>\n",
       "      <th>0</th>\n",
       "      <td>nice hotel expensive parking got good deal sta...</td>\n",
       "      <td>4</td>\n",
       "      <td>87</td>\n",
       "    </tr>\n",
       "    <tr>\n",
       "      <th>1</th>\n",
       "      <td>ok nothing special charge diamond member hilto...</td>\n",
       "      <td>2</td>\n",
       "      <td>250</td>\n",
       "    </tr>\n",
       "    <tr>\n",
       "      <th>2</th>\n",
       "      <td>nice rooms not 4* experience hotel monaco seat...</td>\n",
       "      <td>3</td>\n",
       "      <td>217</td>\n",
       "    </tr>\n",
       "    <tr>\n",
       "      <th>3</th>\n",
       "      <td>unique, great stay, wonderful time hotel monac...</td>\n",
       "      <td>5</td>\n",
       "      <td>89</td>\n",
       "    </tr>\n",
       "    <tr>\n",
       "      <th>4</th>\n",
       "      <td>great stay great stay, went seahawk game aweso...</td>\n",
       "      <td>5</td>\n",
       "      <td>191</td>\n",
       "    </tr>\n",
       "    <tr>\n",
       "      <th>5</th>\n",
       "      <td>love monaco staff husband stayed hotel crazy w...</td>\n",
       "      <td>5</td>\n",
       "      <td>134</td>\n",
       "    </tr>\n",
       "    <tr>\n",
       "      <th>6</th>\n",
       "      <td>cozy stay rainy city, husband spent 7 nights m...</td>\n",
       "      <td>5</td>\n",
       "      <td>101</td>\n",
       "    </tr>\n",
       "    <tr>\n",
       "      <th>7</th>\n",
       "      <td>excellent staff, housekeeping quality hotel ch...</td>\n",
       "      <td>4</td>\n",
       "      <td>85</td>\n",
       "    </tr>\n",
       "    <tr>\n",
       "      <th>8</th>\n",
       "      <td>hotel stayed hotel monaco cruise, rooms genero...</td>\n",
       "      <td>5</td>\n",
       "      <td>59</td>\n",
       "    </tr>\n",
       "    <tr>\n",
       "      <th>9</th>\n",
       "      <td>excellent stayed hotel monaco past w/e delight...</td>\n",
       "      <td>5</td>\n",
       "      <td>35</td>\n",
       "    </tr>\n",
       "  </tbody>\n",
       "</table>\n",
       "</div>"
      ],
      "text/plain": [
       "                                              Review  Rating  Word_count\n",
       "0  nice hotel expensive parking got good deal sta...       4          87\n",
       "1  ok nothing special charge diamond member hilto...       2         250\n",
       "2  nice rooms not 4* experience hotel monaco seat...       3         217\n",
       "3  unique, great stay, wonderful time hotel monac...       5          89\n",
       "4  great stay great stay, went seahawk game aweso...       5         191\n",
       "5  love monaco staff husband stayed hotel crazy w...       5         134\n",
       "6  cozy stay rainy city, husband spent 7 nights m...       5         101\n",
       "7  excellent staff, housekeeping quality hotel ch...       4          85\n",
       "8  hotel stayed hotel monaco cruise, rooms genero...       5          59\n",
       "9  excellent stayed hotel monaco past w/e delight...       5          35"
      ]
     },
     "execution_count": 14,
     "metadata": {},
     "output_type": "execute_result"
    }
   ],
   "source": [
    "df['Word_count']= df['Review'].map(lambda x: len(x.split()))\n",
    "df.head(10)"
   ]
  },
  {
   "cell_type": "code",
   "execution_count": 15,
   "id": "334246be-50af-418b-8dd6-5acd93f71b11",
   "metadata": {},
   "outputs": [
    {
     "data": {
      "text/plain": [
       "<Axes: xlabel='Rating', ylabel='Word_count'>"
      ]
     },
     "execution_count": 15,
     "metadata": {},
     "output_type": "execute_result"
    },
    {
     "data": {
      "image/png": "[encoded data removed]",
      "text/plain": [
       "<Figure size 640x480 with 1 Axes>"
      ]
     },
     "metadata": {},
     "output_type": "display_data"
    }
   ],
   "source": [
    "sns.lineplot(x='Rating', y='Word_count', data=df)"
   ]
  },
  {
   "cell_type": "markdown",
   "id": "0bdc2859-5605-4fd5-b1f0-5ec1fd1bba95",
   "metadata": {},
   "source": [
    "The review rate as 2 is highest"
   ]
  },
  {
   "cell_type": "code",
   "execution_count": 16,
   "id": "eaaeda4a-d00c-4d8e-88f6-458e6379ff82",
   "metadata": {},
   "outputs": [],
   "source": [
    "from textblob import TextBlob"
   ]
  },
  {
   "cell_type": "code",
   "execution_count": 17,
   "id": "6792e835-55b6-452e-8f6b-26388e8fa32a",
   "metadata": {},
   "outputs": [],
   "source": [
    "def polarity(x):\n",
    "    blob = TextBlob(x)\n",
    "    return blob.sentiment.polarity\n"
   ]
  },
  {
   "cell_type": "code",
   "execution_count": 18,
   "id": "8c06cfa3-d5d9-44f7-83bd-0f32fd78d034",
   "metadata": {},
   "outputs": [],
   "source": [
    "def subjectivity(x):\n",
    "    blob = TextBlob(x)\n",
    "    return blob.sentiment.subjectivity"
   ]
  },
  {
   "cell_type": "code",
   "execution_count": 19,
   "id": "12f98bcc-5dd1-45e7-8c0a-ac8908d98cb8",
   "metadata": {},
   "outputs": [],
   "source": [
    "df['polarity']= df['Review'].apply(polarity)\n",
    "df['Subjectivity']= df['Review'].apply(subjectivity)"
   ]
  },
  {
   "cell_type": "code",
   "execution_count": 20,
   "id": "3e237d2d-254e-4bf8-af32-f4ebcd7acdef",
   "metadata": {},
   "outputs": [
    {
     "data": {
      "text/html": [
       "<div>\n",
       "<style scoped>\n",
       "    .dataframe tbody tr th:only-of-type {\n",
       "        vertical-align: middle;\n",
       "    }\n",
       "\n",
       "    .dataframe tbody tr th {\n",
       "        vertical-align: top;\n",
       "    }\n",
       "\n",
       "    .dataframe thead th {\n",
       "        text-align: right;\n",
       "    }\n",
       "</style>\n",
       "<table border=\"1\" class=\"dataframe\">\n",
       "  <thead>\n",
       "    <tr style=\"text-align: right;\">\n",
       "      <th></th>\n",
       "      <th>Review</th>\n",
       "      <th>Rating</th>\n",
       "      <th>Word_count</th>\n",
       "      <th>polarity</th>\n",
       "      <th>Subjectivity</th>\n",
       "    </tr>\n",
       "  </thead>\n",
       "  <tbody>\n",
       "    <tr>\n",
       "      <th>0</th>\n",
       "      <td>nice hotel expensive parking got good deal sta...</td>\n",
       "      <td>4</td>\n",
       "      <td>87</td>\n",
       "      <td>0.208744</td>\n",
       "      <td>0.687000</td>\n",
       "    </tr>\n",
       "    <tr>\n",
       "      <th>1</th>\n",
       "      <td>ok nothing special charge diamond member hilto...</td>\n",
       "      <td>2</td>\n",
       "      <td>250</td>\n",
       "      <td>0.214923</td>\n",
       "      <td>0.495009</td>\n",
       "    </tr>\n",
       "    <tr>\n",
       "      <th>2</th>\n",
       "      <td>nice rooms not 4* experience hotel monaco seat...</td>\n",
       "      <td>3</td>\n",
       "      <td>217</td>\n",
       "      <td>0.294420</td>\n",
       "      <td>0.605208</td>\n",
       "    </tr>\n",
       "    <tr>\n",
       "      <th>3</th>\n",
       "      <td>unique, great stay, wonderful time hotel monac...</td>\n",
       "      <td>5</td>\n",
       "      <td>89</td>\n",
       "      <td>0.504825</td>\n",
       "      <td>0.691228</td>\n",
       "    </tr>\n",
       "    <tr>\n",
       "      <th>4</th>\n",
       "      <td>great stay great stay, went seahawk game aweso...</td>\n",
       "      <td>5</td>\n",
       "      <td>191</td>\n",
       "      <td>0.384615</td>\n",
       "      <td>0.629396</td>\n",
       "    </tr>\n",
       "  </tbody>\n",
       "</table>\n",
       "</div>"
      ],
      "text/plain": [
       "                                              Review  Rating  Word_count  \\\n",
       "0  nice hotel expensive parking got good deal sta...       4          87   \n",
       "1  ok nothing special charge diamond member hilto...       2         250   \n",
       "2  nice rooms not 4* experience hotel monaco seat...       3         217   \n",
       "3  unique, great stay, wonderful time hotel monac...       5          89   \n",
       "4  great stay great stay, went seahawk game aweso...       5         191   \n",
       "\n",
       "   polarity  Subjectivity  \n",
       "0  0.208744      0.687000  \n",
       "1  0.214923      0.495009  \n",
       "2  0.294420      0.605208  \n",
       "3  0.504825      0.691228  \n",
       "4  0.384615      0.629396  "
      ]
     },
     "execution_count": 20,
     "metadata": {},
     "output_type": "execute_result"
    }
   ],
   "source": [
    "df.head()"
   ]
  },
  {
   "cell_type": "code",
   "execution_count": 21,
   "id": "0310f317-3565-494d-86d2-7077a515ca69",
   "metadata": {},
   "outputs": [],
   "source": [
    "conditions = [\n",
    "    (df['polarity']>0),\n",
    "    (df['polarity']<0),\n",
    "    (df['polarity']==0)\n",
    "]\n",
    "values = ['Positive','Negative','Nuetral']\n",
    "df['polarity_new'] = np.select(conditions,values) #distribute "
   ]
  },
  {
   "cell_type": "code",
   "execution_count": 22,
   "id": "0364a4c9-169e-4711-bbd7-fee02f3778e4",
   "metadata": {},
   "outputs": [
    {
     "data": {
      "text/html": [
       "<div>\n",
       "<style scoped>\n",
       "    .dataframe tbody tr th:only-of-type {\n",
       "        vertical-align: middle;\n",
       "    }\n",
       "\n",
       "    .dataframe tbody tr th {\n",
       "        vertical-align: top;\n",
       "    }\n",
       "\n",
       "    .dataframe thead th {\n",
       "        text-align: right;\n",
       "    }\n",
       "</style>\n",
       "<table border=\"1\" class=\"dataframe\">\n",
       "  <thead>\n",
       "    <tr style=\"text-align: right;\">\n",
       "      <th></th>\n",
       "      <th>Review</th>\n",
       "      <th>Rating</th>\n",
       "      <th>Word_count</th>\n",
       "      <th>polarity</th>\n",
       "      <th>Subjectivity</th>\n",
       "      <th>polarity_new</th>\n",
       "    </tr>\n",
       "  </thead>\n",
       "  <tbody>\n",
       "    <tr>\n",
       "      <th>0</th>\n",
       "      <td>nice hotel expensive parking got good deal sta...</td>\n",
       "      <td>4</td>\n",
       "      <td>87</td>\n",
       "      <td>0.208744</td>\n",
       "      <td>0.687000</td>\n",
       "      <td>Positive</td>\n",
       "    </tr>\n",
       "    <tr>\n",
       "      <th>1</th>\n",
       "      <td>ok nothing special charge diamond member hilto...</td>\n",
       "      <td>2</td>\n",
       "      <td>250</td>\n",
       "      <td>0.214923</td>\n",
       "      <td>0.495009</td>\n",
       "      <td>Positive</td>\n",
       "    </tr>\n",
       "    <tr>\n",
       "      <th>2</th>\n",
       "      <td>nice rooms not 4* experience hotel monaco seat...</td>\n",
       "      <td>3</td>\n",
       "      <td>217</td>\n",
       "      <td>0.294420</td>\n",
       "      <td>0.605208</td>\n",
       "      <td>Positive</td>\n",
       "    </tr>\n",
       "    <tr>\n",
       "      <th>3</th>\n",
       "      <td>unique, great stay, wonderful time hotel monac...</td>\n",
       "      <td>5</td>\n",
       "      <td>89</td>\n",
       "      <td>0.504825</td>\n",
       "      <td>0.691228</td>\n",
       "      <td>Positive</td>\n",
       "    </tr>\n",
       "    <tr>\n",
       "      <th>4</th>\n",
       "      <td>great stay great stay, went seahawk game aweso...</td>\n",
       "      <td>5</td>\n",
       "      <td>191</td>\n",
       "      <td>0.384615</td>\n",
       "      <td>0.629396</td>\n",
       "      <td>Positive</td>\n",
       "    </tr>\n",
       "  </tbody>\n",
       "</table>\n",
       "</div>"
      ],
      "text/plain": [
       "                                              Review  Rating  Word_count  \\\n",
       "0  nice hotel expensive parking got good deal sta...       4          87   \n",
       "1  ok nothing special charge diamond member hilto...       2         250   \n",
       "2  nice rooms not 4* experience hotel monaco seat...       3         217   \n",
       "3  unique, great stay, wonderful time hotel monac...       5          89   \n",
       "4  great stay great stay, went seahawk game aweso...       5         191   \n",
       "\n",
       "   polarity  Subjectivity polarity_new  \n",
       "0  0.208744      0.687000     Positive  \n",
       "1  0.214923      0.495009     Positive  \n",
       "2  0.294420      0.605208     Positive  \n",
       "3  0.504825      0.691228     Positive  \n",
       "4  0.384615      0.629396     Positive  "
      ]
     },
     "execution_count": 22,
     "metadata": {},
     "output_type": "execute_result"
    }
   ],
   "source": [
    "df.head()"
   ]
  },
  {
   "cell_type": "code",
   "execution_count": 23,
   "id": "d52b7e98-8b31-45b8-bf69-e101ec9a8a8b",
   "metadata": {},
   "outputs": [
    {
     "data": {
      "text/plain": [
       "<seaborn.axisgrid.FacetGrid at 0x7fc769dd7af0>"
      ]
     },
     "execution_count": 23,
     "metadata": {},
     "output_type": "execute_result"
    },
    {
     "data": {
      "image/png": "[encoded data removed]",
      "text/plain": [
       "<Figure size 500x500 with 1 Axes>"
      ]
     },
     "metadata": {},
     "output_type": "display_data"
    }
   ],
   "source": [
    "sns.displot(df['polarity'])"
   ]
  },
  {
   "cell_type": "code",
   "execution_count": 24,
   "id": "835be71c-a22a-4198-aeaf-bb064f620c53",
   "metadata": {},
   "outputs": [
    {
     "data": {
      "text/plain": [
       "<seaborn.axisgrid.FacetGrid at 0x7fc767889bd0>"
      ]
     },
     "execution_count": 24,
     "metadata": {},
     "output_type": "execute_result"
    },
    {
     "data": {
      "image/png": "[encoded data removed]",
      "text/plain": [
       "<Figure size 500x500 with 1 Axes>"
      ]
     },
     "metadata": {},
     "output_type": "display_data"
    }
   ],
   "source": [
    "sns.displot(df['Subjectivity'])"
   ]
  },
  {
   "cell_type": "code",
   "execution_count": 25,
   "id": "00064233-8f8f-4307-a3a8-a00ffc1f5fb3",
   "metadata": {},
   "outputs": [
    {
     "data": {
      "text/plain": [
       "<Axes: xlabel='polarity_new', ylabel='count'>"
      ]
     },
     "execution_count": 25,
     "metadata": {},
     "output_type": "execute_result"
    },
    {
     "data": {
      "image/png": "[encoded data removed]",
      "text/plain": [
       "<Figure size 640x480 with 1 Axes>"
      ]
     },
     "metadata": {},
     "output_type": "display_data"
    }
   ],
   "source": [
    "sns.countplot(x='polarity_new',hue='Rating',data=df, palette=\"Set3\")"
   ]
  },
  {
   "cell_type": "markdown",
   "id": "e65087bb-cd9f-4671-bc30-7815a958fa84",
   "metadata": {},
   "source": [
    "## 5.Text Cleaning(Pre-processing of data)"
   ]
  },
  {
   "cell_type": "markdown",
   "id": "b84f8646-9e46-433b-b54f-a1984928e7d4",
   "metadata": {},
   "source": [
    "### A. Remove stopwords"
   ]
  },
  {
   "cell_type": "code",
   "execution_count": 29,
   "id": "e326fcea-79c1-4bcc-92a6-1b10a2ced750",
   "metadata": {},
   "outputs": [],
   "source": [
    "import nltk\n",
    "from nltk.corpus import stopwords\n",
    "#nltk.download('stopwords')\n",
    "stop = stopwords.words('english')\n",
    "from nltk.tokenize import word_tokenize"
   ]
  },
  {
   "cell_type": "code",
   "execution_count": 30,
   "id": "40d1b928-a9a9-475e-8f4a-549d3695c051",
   "metadata": {},
   "outputs": [],
   "source": [
    "#remove stopwords from review column\n",
    "df['Review'] = df['Review'].apply(lambda x:' '.join([word for word in x.split() if word not in (stop)]))"
   ]
  },
  {
   "cell_type": "code",
   "execution_count": 31,
   "id": "dfe1f265-d99d-4da3-a5b4-14a896f8bf14",
   "metadata": {},
   "outputs": [
    {
     "data": {
      "text/html": [
       "<div>\n",
       "<style scoped>\n",
       "    .dataframe tbody tr th:only-of-type {\n",
       "        vertical-align: middle;\n",
       "    }\n",
       "\n",
       "    .dataframe tbody tr th {\n",
       "        vertical-align: top;\n",
       "    }\n",
       "\n",
       "    .dataframe thead th {\n",
       "        text-align: right;\n",
       "    }\n",
       "</style>\n",
       "<table border=\"1\" class=\"dataframe\">\n",
       "  <thead>\n",
       "    <tr style=\"text-align: right;\">\n",
       "      <th></th>\n",
       "      <th>Review</th>\n",
       "      <th>Rating</th>\n",
       "      <th>Word_count</th>\n",
       "      <th>polarity</th>\n",
       "      <th>Subjectivity</th>\n",
       "      <th>polarity_new</th>\n",
       "    </tr>\n",
       "  </thead>\n",
       "  <tbody>\n",
       "    <tr>\n",
       "      <th>0</th>\n",
       "      <td>nice hotel expensive parking got good deal sta...</td>\n",
       "      <td>4</td>\n",
       "      <td>87</td>\n",
       "      <td>0.208744</td>\n",
       "      <td>0.687000</td>\n",
       "      <td>Positive</td>\n",
       "    </tr>\n",
       "    <tr>\n",
       "      <th>1</th>\n",
       "      <td>ok nothing special charge diamond member hilto...</td>\n",
       "      <td>2</td>\n",
       "      <td>250</td>\n",
       "      <td>0.214923</td>\n",
       "      <td>0.495009</td>\n",
       "      <td>Positive</td>\n",
       "    </tr>\n",
       "    <tr>\n",
       "      <th>2</th>\n",
       "      <td>nice rooms 4* experience hotel monaco seattle ...</td>\n",
       "      <td>3</td>\n",
       "      <td>217</td>\n",
       "      <td>0.294420</td>\n",
       "      <td>0.605208</td>\n",
       "      <td>Positive</td>\n",
       "    </tr>\n",
       "    <tr>\n",
       "      <th>3</th>\n",
       "      <td>unique, great stay, wonderful time hotel monac...</td>\n",
       "      <td>5</td>\n",
       "      <td>89</td>\n",
       "      <td>0.504825</td>\n",
       "      <td>0.691228</td>\n",
       "      <td>Positive</td>\n",
       "    </tr>\n",
       "    <tr>\n",
       "      <th>4</th>\n",
       "      <td>great stay great stay, went seahawk game aweso...</td>\n",
       "      <td>5</td>\n",
       "      <td>191</td>\n",
       "      <td>0.384615</td>\n",
       "      <td>0.629396</td>\n",
       "      <td>Positive</td>\n",
       "    </tr>\n",
       "  </tbody>\n",
       "</table>\n",
       "</div>"
      ],
      "text/plain": [
       "                                              Review  Rating  Word_count  \\\n",
       "0  nice hotel expensive parking got good deal sta...       4          87   \n",
       "1  ok nothing special charge diamond member hilto...       2         250   \n",
       "2  nice rooms 4* experience hotel monaco seattle ...       3         217   \n",
       "3  unique, great stay, wonderful time hotel monac...       5          89   \n",
       "4  great stay great stay, went seahawk game aweso...       5         191   \n",
       "\n",
       "   polarity  Subjectivity polarity_new  \n",
       "0  0.208744      0.687000     Positive  \n",
       "1  0.214923      0.495009     Positive  \n",
       "2  0.294420      0.605208     Positive  \n",
       "3  0.504825      0.691228     Positive  \n",
       "4  0.384615      0.629396     Positive  "
      ]
     },
     "execution_count": 31,
     "metadata": {},
     "output_type": "execute_result"
    }
   ],
   "source": [
    "df.head()"
   ]
  },
  {
   "cell_type": "markdown",
   "id": "030bd0c9-bfe6-42f5-b147-a838c27146f2",
   "metadata": {},
   "source": [
    "### B. Stemming"
   ]
  },
  {
   "cell_type": "code",
   "execution_count": 32,
   "id": "5e844695-74c1-4e3c-9539-95984509a15c",
   "metadata": {},
   "outputs": [],
   "source": [
    "from nltk.stem.snowball import SnowballStemmer\n",
    "stemmer = SnowballStemmer(\"english\")"
   ]
  },
  {
   "cell_type": "code",
   "execution_count": 33,
   "id": "60bb9e99-0e1f-4750-8f5d-ff29d800323f",
   "metadata": {},
   "outputs": [],
   "source": [
    "# Split the sentences to lists of words.\n",
    "df['Review_stemming'] = df['Review'].str.split()\n",
    "# Make sure we see the full column.\n",
    "pd.set_option('display.max_colwidth', 1)\n",
    "df['Review_stemming'] = df['Review_stemming'].apply(lambda x: [stemmer.stem(y) for y in x]) # Stem every word."
   ]
  },
  {
   "cell_type": "code",
   "execution_count": 34,
   "id": "291df293-7687-4cc6-bc51-528b035cf8f1",
   "metadata": {},
   "outputs": [
    {
     "data": {
      "text/html": [
       "<div>\n",
       "<style scoped>\n",
       "    .dataframe tbody tr th:only-of-type {\n",
       "        vertical-align: middle;\n",
       "    }\n",
       "\n",
       "    .dataframe tbody tr th {\n",
       "        vertical-align: top;\n",
       "    }\n",
       "\n",
       "    .dataframe thead th {\n",
       "        text-align: right;\n",
       "    }\n",
       "</style>\n",
       "<table border=\"1\" class=\"dataframe\">\n",
       "  <thead>\n",
       "    <tr style=\"text-align: right;\">\n",
       "      <th></th>\n",
       "      <th>Review</th>\n",
       "      <th>Rating</th>\n",
       "      <th>Word_count</th>\n",
       "      <th>polarity</th>\n",
       "      <th>Subjectivity</th>\n",
       "      <th>polarity_new</th>\n",
       "      <th>Review_stemming</th>\n",
       "    </tr>\n",
       "  </thead>\n",
       "  <tbody>\n",
       "    <tr>\n",
       "      <th>0</th>\n",
       "      <td>nice hotel expensive parking got good deal stay hotel anniversary, arrived late evening took advice previous reviews valet parking, check quick easy, little disappointed non-existent view room room clean nice size, bed comfortable woke stiff neck high pillows, soundproof like heard music room night morning loud bangs doors opening closing hear people talking hallway, maybe noisy neighbors, aveda bath products nice, goldfish stay nice touch taken advantage staying longer, location great walking distance shopping, overall nice experience pay 40 parking night,</td>\n",
       "      <td>4</td>\n",
       "      <td>87</td>\n",
       "      <td>0.208744</td>\n",
       "      <td>0.687000</td>\n",
       "      <td>Positive</td>\n",
       "      <td>[nice, hotel, expens, park, got, good, deal, stay, hotel, anniversary,, arriv, late, even, took, advic, previous, review, valet, parking,, check, quick, easy,, littl, disappoint, non-exist, view, room, room, clean, nice, size,, bed, comfort, woke, stiff, neck, high, pillows,, soundproof, like, heard, music, room, night, morn, loud, bang, door, open, close, hear, peopl, talk, hallway,, mayb, noisi, neighbors,, aveda, bath, product, nice,, goldfish, stay, nice, touch, taken, advantag, stay, longer,, locat, great, walk, distanc, shopping,, overal, nice, experi, pay, 40, park, night,]</td>\n",
       "    </tr>\n",
       "    <tr>\n",
       "      <th>1</th>\n",
       "      <td>ok nothing special charge diamond member hilton decided chain shot 20th anniversary seattle, start booked suite paid extra website description not, suite bedroom bathroom standard hotel room, took printed reservation desk showed said things like tv couch ect desk clerk told oh mixed suites description kimpton website sorry free breakfast, got kidding, embassy suits sitting room bathroom bedroom unlike kimpton calls suite, 5 day stay offer correct false advertising, send kimpton preferred guest website email asking failure provide suite advertised website reservation description furnished hard copy reservation printout website desk manager duty reply solution, send email trip guest survey follow email mail, guess tell concerned guest.the staff ranged indifferent helpful, asked desk good breakfast spots neighborhood hood told hotels, gee best breakfast spots seattle 1/2 block away convenient hotel know exist, arrived late night 11 pm inside run bellman busy chating cell phone help bags.prior arrival emailed hotel inform 20th anniversary half really picky wanted make sure good, got nice email saying like deliver bottle champagne chocolate covered strawberries room arrival celebrate, told needed foam pillows, arrival champagne strawberries foam pillows great room view alley high rise building good better housekeeping staff cleaner room property, impressed left morning shopping room got short trips 2 hours, beds comfortable.not good ac-heat control 4 x 4 inch screen bring green shine directly eyes night, light sensitive tape controls.this 4 start hotel clean business hotel super high rates, better chain hotels seattle,</td>\n",
       "      <td>2</td>\n",
       "      <td>250</td>\n",
       "      <td>0.214923</td>\n",
       "      <td>0.495009</td>\n",
       "      <td>Positive</td>\n",
       "      <td>[ok, noth, special, charg, diamond, member, hilton, decid, chain, shot, 20th, anniversari, seattle,, start, book, suit, paid, extra, websit, descript, not,, suit, bedroom, bathroom, standard, hotel, room,, took, print, reserv, desk, show, said, thing, like, tv, couch, ect, desk, clerk, told, oh, mix, suit, descript, kimpton, websit, sorri, free, breakfast,, got, kidding,, embassi, suit, sit, room, bathroom, bedroom, unlik, kimpton, call, suite,, 5, day, stay, offer, correct, fals, advertising,, send, kimpton, prefer, guest, websit, email, ask, failur, provid, suit, advertis, websit, reserv, descript, furnish, hard, copi, reserv, printout, websit, desk, manag, duti, repli, solution,, send, email, trip, guest, survey, follow, ...]</td>\n",
       "    </tr>\n",
       "    <tr>\n",
       "      <th>2</th>\n",
       "      <td>nice rooms 4* experience hotel monaco seattle good hotel n't 4* level.positives large bathroom mediterranean suite comfortable bed pillowsattentive housekeeping staffnegatives ac unit malfunctioned stay desk disorganized, missed 3 separate wakeup calls, concierge busy hard touch, n't provide guidance special requests.tv hard use ipod sound dock suite non functioning. decided book mediterranean suite 3 night weekend stay 1st choice rest party filled, comparison w spent 45 night larger square footage room great soaking tub whirlpool jets nice shower.before stay hotel arrange car service price 53 tip reasonable driver waiting arrival.checkin easy downside room picked 2 person jacuzi tub bath accessories salts bubble bath n't stay, night got 12/1a checked voucher bottle champagne nice gesture fish waiting room, impression room huge open space felt room big, tv far away bed chore change channel, ipod dock broken disappointing.in morning way asked desk check thermostat said 65f 74 2 degrees warm try cover face night bright blue light kept, got room night no, 1st drop desk, called maintainence came look thermostat told play settings happy digital box wo n't work, asked wakeup 10am morning n't happen, called later 6pm nap wakeup forgot, 10am wakeup morning yep forgotten.the bathroom facilities great room surprised room sold whirlpool bath tub n't bath amenities, great relax water jets going,</td>\n",
       "      <td>3</td>\n",
       "      <td>217</td>\n",
       "      <td>0.294420</td>\n",
       "      <td>0.605208</td>\n",
       "      <td>Positive</td>\n",
       "      <td>[nice, room, 4*, experi, hotel, monaco, seattl, good, hotel, n't, 4*, level.posit, larg, bathroom, mediterranean, suit, comfort, bed, pillowsattent, housekeep, staffneg, ac, unit, malfunct, stay, desk, disorganized,, miss, 3, separ, wakeup, calls,, concierg, busi, hard, touch,, n't, provid, guidanc, special, requests.tv, hard, use, ipod, sound, dock, suit, non, functioning., decid, book, mediterranean, suit, 3, night, weekend, stay, 1st, choic, rest, parti, filled,, comparison, w, spent, 45, night, larger, squar, footag, room, great, soak, tub, whirlpool, jet, nice, shower.befor, stay, hotel, arrang, car, servic, price, 53, tip, reason, driver, wait, arrival.checkin, easi, downsid, room, pick, 2, person, jacuzi, tub, bath, accessori, ...]</td>\n",
       "    </tr>\n",
       "    <tr>\n",
       "      <th>3</th>\n",
       "      <td>unique, great stay, wonderful time hotel monaco, location excellent short stroll main downtown shopping area, pet friendly room showed signs animal hair smells, monaco suite sleeping area big striped curtains pulled closed nice touch felt cosy, goldfish named brandi enjoyed, n't partake free wine coffee/tea service lobby thought great feature, great staff friendly, free wireless internet hotel worked suite 2 laptops, decor lovely eclectic mix pattens color palatte, animal print bathrobes feel like rock stars, nice n't look like sterile chain hotel hotel personality excellent stay,</td>\n",
       "      <td>5</td>\n",
       "      <td>89</td>\n",
       "      <td>0.504825</td>\n",
       "      <td>0.691228</td>\n",
       "      <td>Positive</td>\n",
       "      <td>[unique,, great, stay,, wonder, time, hotel, monaco,, locat, excel, short, stroll, main, downtown, shop, area,, pet, friend, room, show, sign, anim, hair, smells,, monaco, suit, sleep, area, big, stripe, curtain, pull, close, nice, touch, felt, cosy,, goldfish, name, brandi, enjoyed,, n't, partak, free, wine, coffee/tea, servic, lobbi, thought, great, feature,, great, staff, friendly,, free, wireless, internet, hotel, work, suit, 2, laptops,, decor, love, eclect, mix, patten, color, palatte,, anim, print, bathrob, feel, like, rock, stars,, nice, n't, look, like, steril, chain, hotel, hotel, person, excel, stay,]</td>\n",
       "    </tr>\n",
       "    <tr>\n",
       "      <th>4</th>\n",
       "      <td>great stay great stay, went seahawk game awesome, downfall view building n't complain, room huge staff helpful, booked hotels website seahawk package, charge parking got voucher taxi, problem taxi driver n't want accept voucher barely spoke english, funny thing speak arabic called started making comments girlfriend cell phone buddy, took second realize said fact speak language face priceless, ass told, said large city, told head doorman issue called cab company promply answer n't, apologized offered pay taxi, bucks 2 miles stadium, game plan taxi return going humpin, great walk n't mind, right christmas wonderful lights, homeless stowed away building entrances leave, police presence greatest area stadium, activities 7 blocks pike street waterfront great coffee shops way, hotel mantained foyer awesome, wine tasting available evening, best dog, taking st. bernard time family, safes hotel located service desk room, bathroom huge jetted tub huge, funny house keeping walked girlfriend getting dressed, n't hear knock turn service, screamed girlfriend screams hit floor laughing, started talking spanish worked, place recommend price, check online deals good better, besite contains deals vouchers travel websites n't tell,</td>\n",
       "      <td>5</td>\n",
       "      <td>191</td>\n",
       "      <td>0.384615</td>\n",
       "      <td>0.629396</td>\n",
       "      <td>Positive</td>\n",
       "      <td>[great, stay, great, stay,, went, seahawk, game, awesome,, downfal, view, build, n't, complain,, room, huge, staff, helpful,, book, hotel, websit, seahawk, package,, charg, park, got, voucher, taxi,, problem, taxi, driver, n't, want, accept, voucher, bare, spoke, english,, funni, thing, speak, arab, call, start, make, comment, girlfriend, cell, phone, buddy,, took, second, realiz, said, fact, speak, languag, face, priceless,, ass, told,, said, larg, city,, told, head, doorman, issu, call, cab, compani, prompli, answer, n't,, apolog, offer, pay, taxi,, buck, 2, mile, stadium,, game, plan, taxi, return, go, humpin,, great, walk, n't, mind,, right, christma, wonder, lights,, homeless, stow, away, build, entranc, ...]</td>\n",
       "    </tr>\n",
       "  </tbody>\n",
       "</table>\n",
       "</div>"
      ],
      "text/plain": [
       "                                                                                                                                                                                                                                                                                                                                                                                                                                                                                                                                                                                                                                                                                                                                                                                                                                                                                                                                                                                                                                                                                                                                                                                                                                                                                                                                                                                                                                                                                                                                                                                                                                                                                                      Review  \\\n",
       "0  nice hotel expensive parking got good deal stay hotel anniversary, arrived late evening took advice previous reviews valet parking, check quick easy, little disappointed non-existent view room room clean nice size, bed comfortable woke stiff neck high pillows, soundproof like heard music room night morning loud bangs doors opening closing hear people talking hallway, maybe noisy neighbors, aveda bath products nice, goldfish stay nice touch taken advantage staying longer, location great walking distance shopping, overall nice experience pay 40 parking night,                                                                                                                                                                                                                                                                                                                                                                                                                                                                                                                                                                                                                                                                                                                                                                                                                                                                                                                                                                                                                                                                                                                         \n",
       "1  ok nothing special charge diamond member hilton decided chain shot 20th anniversary seattle, start booked suite paid extra website description not, suite bedroom bathroom standard hotel room, took printed reservation desk showed said things like tv couch ect desk clerk told oh mixed suites description kimpton website sorry free breakfast, got kidding, embassy suits sitting room bathroom bedroom unlike kimpton calls suite, 5 day stay offer correct false advertising, send kimpton preferred guest website email asking failure provide suite advertised website reservation description furnished hard copy reservation printout website desk manager duty reply solution, send email trip guest survey follow email mail, guess tell concerned guest.the staff ranged indifferent helpful, asked desk good breakfast spots neighborhood hood told hotels, gee best breakfast spots seattle 1/2 block away convenient hotel know exist, arrived late night 11 pm inside run bellman busy chating cell phone help bags.prior arrival emailed hotel inform 20th anniversary half really picky wanted make sure good, got nice email saying like deliver bottle champagne chocolate covered strawberries room arrival celebrate, told needed foam pillows, arrival champagne strawberries foam pillows great room view alley high rise building good better housekeeping staff cleaner room property, impressed left morning shopping room got short trips 2 hours, beds comfortable.not good ac-heat control 4 x 4 inch screen bring green shine directly eyes night, light sensitive tape controls.this 4 start hotel clean business hotel super high rates, better chain hotels seattle,   \n",
       "2  nice rooms 4* experience hotel monaco seattle good hotel n't 4* level.positives large bathroom mediterranean suite comfortable bed pillowsattentive housekeeping staffnegatives ac unit malfunctioned stay desk disorganized, missed 3 separate wakeup calls, concierge busy hard touch, n't provide guidance special requests.tv hard use ipod sound dock suite non functioning. decided book mediterranean suite 3 night weekend stay 1st choice rest party filled, comparison w spent 45 night larger square footage room great soaking tub whirlpool jets nice shower.before stay hotel arrange car service price 53 tip reasonable driver waiting arrival.checkin easy downside room picked 2 person jacuzi tub bath accessories salts bubble bath n't stay, night got 12/1a checked voucher bottle champagne nice gesture fish waiting room, impression room huge open space felt room big, tv far away bed chore change channel, ipod dock broken disappointing.in morning way asked desk check thermostat said 65f 74 2 degrees warm try cover face night bright blue light kept, got room night no, 1st drop desk, called maintainence came look thermostat told play settings happy digital box wo n't work, asked wakeup 10am morning n't happen, called later 6pm nap wakeup forgot, 10am wakeup morning yep forgotten.the bathroom facilities great room surprised room sold whirlpool bath tub n't bath amenities, great relax water jets going,                                                                                                                                                                                                                                              \n",
       "3  unique, great stay, wonderful time hotel monaco, location excellent short stroll main downtown shopping area, pet friendly room showed signs animal hair smells, monaco suite sleeping area big striped curtains pulled closed nice touch felt cosy, goldfish named brandi enjoyed, n't partake free wine coffee/tea service lobby thought great feature, great staff friendly, free wireless internet hotel worked suite 2 laptops, decor lovely eclectic mix pattens color palatte, animal print bathrobes feel like rock stars, nice n't look like sterile chain hotel hotel personality excellent stay,                                                                                                                                                                                                                                                                                                                                                                                                                                                                                                                                                                                                                                                                                                                                                                                                                                                                                                                                                                                                                                                                                                 \n",
       "4  great stay great stay, went seahawk game awesome, downfall view building n't complain, room huge staff helpful, booked hotels website seahawk package, charge parking got voucher taxi, problem taxi driver n't want accept voucher barely spoke english, funny thing speak arabic called started making comments girlfriend cell phone buddy, took second realize said fact speak language face priceless, ass told, said large city, told head doorman issue called cab company promply answer n't, apologized offered pay taxi, bucks 2 miles stadium, game plan taxi return going humpin, great walk n't mind, right christmas wonderful lights, homeless stowed away building entrances leave, police presence greatest area stadium, activities 7 blocks pike street waterfront great coffee shops way, hotel mantained foyer awesome, wine tasting available evening, best dog, taking st. bernard time family, safes hotel located service desk room, bathroom huge jetted tub huge, funny house keeping walked girlfriend getting dressed, n't hear knock turn service, screamed girlfriend screams hit floor laughing, started talking spanish worked, place recommend price, check online deals good better, besite contains deals vouchers travel websites n't tell,                                                                                                                                                                                                                                                                                                                                                                                                                            \n",
       "\n",
       "   Rating  Word_count  polarity  Subjectivity polarity_new  \\\n",
       "0  4       87          0.208744  0.687000      Positive      \n",
       "1  2       250         0.214923  0.495009      Positive      \n",
       "2  3       217         0.294420  0.605208      Positive      \n",
       "3  5       89          0.504825  0.691228      Positive      \n",
       "4  5       191         0.384615  0.629396      Positive      \n",
       "\n",
       "                                                                                                                                                                                                                                                                                                                                                                                                                                                                                                                                                                                                                                                                                                                                                                Review_stemming  \n",
       "0  [nice, hotel, expens, park, got, good, deal, stay, hotel, anniversary,, arriv, late, even, took, advic, previous, review, valet, parking,, check, quick, easy,, littl, disappoint, non-exist, view, room, room, clean, nice, size,, bed, comfort, woke, stiff, neck, high, pillows,, soundproof, like, heard, music, room, night, morn, loud, bang, door, open, close, hear, peopl, talk, hallway,, mayb, noisi, neighbors,, aveda, bath, product, nice,, goldfish, stay, nice, touch, taken, advantag, stay, longer,, locat, great, walk, distanc, shopping,, overal, nice, experi, pay, 40, park, night,]                                                                                                                                                                   \n",
       "1  [ok, noth, special, charg, diamond, member, hilton, decid, chain, shot, 20th, anniversari, seattle,, start, book, suit, paid, extra, websit, descript, not,, suit, bedroom, bathroom, standard, hotel, room,, took, print, reserv, desk, show, said, thing, like, tv, couch, ect, desk, clerk, told, oh, mix, suit, descript, kimpton, websit, sorri, free, breakfast,, got, kidding,, embassi, suit, sit, room, bathroom, bedroom, unlik, kimpton, call, suite,, 5, day, stay, offer, correct, fals, advertising,, send, kimpton, prefer, guest, websit, email, ask, failur, provid, suit, advertis, websit, reserv, descript, furnish, hard, copi, reserv, printout, websit, desk, manag, duti, repli, solution,, send, email, trip, guest, survey, follow, ...]            \n",
       "2  [nice, room, 4*, experi, hotel, monaco, seattl, good, hotel, n't, 4*, level.posit, larg, bathroom, mediterranean, suit, comfort, bed, pillowsattent, housekeep, staffneg, ac, unit, malfunct, stay, desk, disorganized,, miss, 3, separ, wakeup, calls,, concierg, busi, hard, touch,, n't, provid, guidanc, special, requests.tv, hard, use, ipod, sound, dock, suit, non, functioning., decid, book, mediterranean, suit, 3, night, weekend, stay, 1st, choic, rest, parti, filled,, comparison, w, spent, 45, night, larger, squar, footag, room, great, soak, tub, whirlpool, jet, nice, shower.befor, stay, hotel, arrang, car, servic, price, 53, tip, reason, driver, wait, arrival.checkin, easi, downsid, room, pick, 2, person, jacuzi, tub, bath, accessori, ...]  \n",
       "3  [unique,, great, stay,, wonder, time, hotel, monaco,, locat, excel, short, stroll, main, downtown, shop, area,, pet, friend, room, show, sign, anim, hair, smells,, monaco, suit, sleep, area, big, stripe, curtain, pull, close, nice, touch, felt, cosy,, goldfish, name, brandi, enjoyed,, n't, partak, free, wine, coffee/tea, servic, lobbi, thought, great, feature,, great, staff, friendly,, free, wireless, internet, hotel, work, suit, 2, laptops,, decor, love, eclect, mix, patten, color, palatte,, anim, print, bathrob, feel, like, rock, stars,, nice, n't, look, like, steril, chain, hotel, hotel, person, excel, stay,]                                                                                                                                   \n",
       "4  [great, stay, great, stay,, went, seahawk, game, awesome,, downfal, view, build, n't, complain,, room, huge, staff, helpful,, book, hotel, websit, seahawk, package,, charg, park, got, voucher, taxi,, problem, taxi, driver, n't, want, accept, voucher, bare, spoke, english,, funni, thing, speak, arab, call, start, make, comment, girlfriend, cell, phone, buddy,, took, second, realiz, said, fact, speak, languag, face, priceless,, ass, told,, said, larg, city,, told, head, doorman, issu, call, cab, compani, prompli, answer, n't,, apolog, offer, pay, taxi,, buck, 2, mile, stadium,, game, plan, taxi, return, go, humpin,, great, walk, n't, mind,, right, christma, wonder, lights,, homeless, stow, away, build, entranc, ...]                           "
      ]
     },
     "execution_count": 34,
     "metadata": {},
     "output_type": "execute_result"
    }
   ],
   "source": [
    "df.head()"
   ]
  },
  {
   "cell_type": "markdown",
   "id": "3bf9fde1-fa0f-4eb1-ba86-0096642e89ec",
   "metadata": {},
   "source": [
    "### C. Lemmatization"
   ]
  },
  {
   "cell_type": "code",
   "execution_count": 37,
   "id": "47cd4106-4c14-4a5e-b1b1-3ea273efbac9",
   "metadata": {},
   "outputs": [],
   "source": [
    "#nltk.download('wordnet')\n",
    "w_tokenizer = nltk.tokenize.WhitespaceTokenizer()\n",
    "lemmatizer = nltk.stem.WordNetLemmatizer()\n",
    "\n",
    "def lemmatize_text(text):\n",
    "    return [lemmatizer.lemmatize(w) for w in w_tokenizer.tokenize(text)]\n",
    "df['Review_lemmatize'] = df.Review.apply(lemmatize_text)"
   ]
  },
  {
   "cell_type": "code",
   "execution_count": 38,
   "id": "56323eb1-8e30-4d5e-b337-6e2f09d54830",
   "metadata": {},
   "outputs": [
    {
     "data": {
      "text/html": [
       "<div>\n",
       "<style scoped>\n",
       "    .dataframe tbody tr th:only-of-type {\n",
       "        vertical-align: middle;\n",
       "    }\n",
       "\n",
       "    .dataframe tbody tr th {\n",
       "        vertical-align: top;\n",
       "    }\n",
       "\n",
       "    .dataframe thead th {\n",
       "        text-align: right;\n",
       "    }\n",
       "</style>\n",
       "<table border=\"1\" class=\"dataframe\">\n",
       "  <thead>\n",
       "    <tr style=\"text-align: right;\">\n",
       "      <th></th>\n",
       "      <th>Review</th>\n",
       "      <th>Rating</th>\n",
       "      <th>Word_count</th>\n",
       "      <th>polarity</th>\n",
       "      <th>Subjectivity</th>\n",
       "      <th>polarity_new</th>\n",
       "      <th>Review_stemming</th>\n",
       "      <th>Review_lemmatize</th>\n",
       "    </tr>\n",
       "  </thead>\n",
       "  <tbody>\n",
       "    <tr>\n",
       "      <th>0</th>\n",
       "      <td>nice hotel expensive parking got good deal stay hotel anniversary, arrived late evening took advice previous reviews valet parking, check quick easy, little disappointed non-existent view room room clean nice size, bed comfortable woke stiff neck high pillows, soundproof like heard music room night morning loud bangs doors opening closing hear people talking hallway, maybe noisy neighbors, aveda bath products nice, goldfish stay nice touch taken advantage staying longer, location great walking distance shopping, overall nice experience pay 40 parking night,</td>\n",
       "      <td>4</td>\n",
       "      <td>87</td>\n",
       "      <td>0.208744</td>\n",
       "      <td>0.687000</td>\n",
       "      <td>Positive</td>\n",
       "      <td>[nice, hotel, expens, park, got, good, deal, stay, hotel, anniversary,, arriv, late, even, took, advic, previous, review, valet, parking,, check, quick, easy,, littl, disappoint, non-exist, view, room, room, clean, nice, size,, bed, comfort, woke, stiff, neck, high, pillows,, soundproof, like, heard, music, room, night, morn, loud, bang, door, open, close, hear, peopl, talk, hallway,, mayb, noisi, neighbors,, aveda, bath, product, nice,, goldfish, stay, nice, touch, taken, advantag, stay, longer,, locat, great, walk, distanc, shopping,, overal, nice, experi, pay, 40, park, night,]</td>\n",
       "      <td>[nice, hotel, expensive, parking, got, good, deal, stay, hotel, anniversary,, arrived, late, evening, took, advice, previous, review, valet, parking,, check, quick, easy,, little, disappointed, non-existent, view, room, room, clean, nice, size,, bed, comfortable, woke, stiff, neck, high, pillows,, soundproof, like, heard, music, room, night, morning, loud, bang, door, opening, closing, hear, people, talking, hallway,, maybe, noisy, neighbors,, aveda, bath, product, nice,, goldfish, stay, nice, touch, taken, advantage, staying, longer,, location, great, walking, distance, shopping,, overall, nice, experience, pay, 40, parking, night,]</td>\n",
       "    </tr>\n",
       "    <tr>\n",
       "      <th>1</th>\n",
       "      <td>ok nothing special charge diamond member hilton decided chain shot 20th anniversary seattle, start booked suite paid extra website description not, suite bedroom bathroom standard hotel room, took printed reservation desk showed said things like tv couch ect desk clerk told oh mixed suites description kimpton website sorry free breakfast, got kidding, embassy suits sitting room bathroom bedroom unlike kimpton calls suite, 5 day stay offer correct false advertising, send kimpton preferred guest website email asking failure provide suite advertised website reservation description furnished hard copy reservation printout website desk manager duty reply solution, send email trip guest survey follow email mail, guess tell concerned guest.the staff ranged indifferent helpful, asked desk good breakfast spots neighborhood hood told hotels, gee best breakfast spots seattle 1/2 block away convenient hotel know exist, arrived late night 11 pm inside run bellman busy chating cell phone help bags.prior arrival emailed hotel inform 20th anniversary half really picky wanted make sure good, got nice email saying like deliver bottle champagne chocolate covered strawberries room arrival celebrate, told needed foam pillows, arrival champagne strawberries foam pillows great room view alley high rise building good better housekeeping staff cleaner room property, impressed left morning shopping room got short trips 2 hours, beds comfortable.not good ac-heat control 4 x 4 inch screen bring green shine directly eyes night, light sensitive tape controls.this 4 start hotel clean business hotel super high rates, better chain hotels seattle,</td>\n",
       "      <td>2</td>\n",
       "      <td>250</td>\n",
       "      <td>0.214923</td>\n",
       "      <td>0.495009</td>\n",
       "      <td>Positive</td>\n",
       "      <td>[ok, noth, special, charg, diamond, member, hilton, decid, chain, shot, 20th, anniversari, seattle,, start, book, suit, paid, extra, websit, descript, not,, suit, bedroom, bathroom, standard, hotel, room,, took, print, reserv, desk, show, said, thing, like, tv, couch, ect, desk, clerk, told, oh, mix, suit, descript, kimpton, websit, sorri, free, breakfast,, got, kidding,, embassi, suit, sit, room, bathroom, bedroom, unlik, kimpton, call, suite,, 5, day, stay, offer, correct, fals, advertising,, send, kimpton, prefer, guest, websit, email, ask, failur, provid, suit, advertis, websit, reserv, descript, furnish, hard, copi, reserv, printout, websit, desk, manag, duti, repli, solution,, send, email, trip, guest, survey, follow, ...]</td>\n",
       "      <td>[ok, nothing, special, charge, diamond, member, hilton, decided, chain, shot, 20th, anniversary, seattle,, start, booked, suite, paid, extra, website, description, not,, suite, bedroom, bathroom, standard, hotel, room,, took, printed, reservation, desk, showed, said, thing, like, tv, couch, ect, desk, clerk, told, oh, mixed, suite, description, kimpton, website, sorry, free, breakfast,, got, kidding,, embassy, suit, sitting, room, bathroom, bedroom, unlike, kimpton, call, suite,, 5, day, stay, offer, correct, false, advertising,, send, kimpton, preferred, guest, website, email, asking, failure, provide, suite, advertised, website, reservation, description, furnished, hard, copy, reservation, printout, website, desk, manager, duty, reply, solution,, send, email, trip, guest, survey, follow, ...]</td>\n",
       "    </tr>\n",
       "    <tr>\n",
       "      <th>2</th>\n",
       "      <td>nice rooms 4* experience hotel monaco seattle good hotel n't 4* level.positives large bathroom mediterranean suite comfortable bed pillowsattentive housekeeping staffnegatives ac unit malfunctioned stay desk disorganized, missed 3 separate wakeup calls, concierge busy hard touch, n't provide guidance special requests.tv hard use ipod sound dock suite non functioning. decided book mediterranean suite 3 night weekend stay 1st choice rest party filled, comparison w spent 45 night larger square footage room great soaking tub whirlpool jets nice shower.before stay hotel arrange car service price 53 tip reasonable driver waiting arrival.checkin easy downside room picked 2 person jacuzi tub bath accessories salts bubble bath n't stay, night got 12/1a checked voucher bottle champagne nice gesture fish waiting room, impression room huge open space felt room big, tv far away bed chore change channel, ipod dock broken disappointing.in morning way asked desk check thermostat said 65f 74 2 degrees warm try cover face night bright blue light kept, got room night no, 1st drop desk, called maintainence came look thermostat told play settings happy digital box wo n't work, asked wakeup 10am morning n't happen, called later 6pm nap wakeup forgot, 10am wakeup morning yep forgotten.the bathroom facilities great room surprised room sold whirlpool bath tub n't bath amenities, great relax water jets going,</td>\n",
       "      <td>3</td>\n",
       "      <td>217</td>\n",
       "      <td>0.294420</td>\n",
       "      <td>0.605208</td>\n",
       "      <td>Positive</td>\n",
       "      <td>[nice, room, 4*, experi, hotel, monaco, seattl, good, hotel, n't, 4*, level.posit, larg, bathroom, mediterranean, suit, comfort, bed, pillowsattent, housekeep, staffneg, ac, unit, malfunct, stay, desk, disorganized,, miss, 3, separ, wakeup, calls,, concierg, busi, hard, touch,, n't, provid, guidanc, special, requests.tv, hard, use, ipod, sound, dock, suit, non, functioning., decid, book, mediterranean, suit, 3, night, weekend, stay, 1st, choic, rest, parti, filled,, comparison, w, spent, 45, night, larger, squar, footag, room, great, soak, tub, whirlpool, jet, nice, shower.befor, stay, hotel, arrang, car, servic, price, 53, tip, reason, driver, wait, arrival.checkin, easi, downsid, room, pick, 2, person, jacuzi, tub, bath, accessori, ...]</td>\n",
       "      <td>[nice, room, 4*, experience, hotel, monaco, seattle, good, hotel, n't, 4*, level.positives, large, bathroom, mediterranean, suite, comfortable, bed, pillowsattentive, housekeeping, staffnegatives, ac, unit, malfunctioned, stay, desk, disorganized,, missed, 3, separate, wakeup, calls,, concierge, busy, hard, touch,, n't, provide, guidance, special, requests.tv, hard, use, ipod, sound, dock, suite, non, functioning., decided, book, mediterranean, suite, 3, night, weekend, stay, 1st, choice, rest, party, filled,, comparison, w, spent, 45, night, larger, square, footage, room, great, soaking, tub, whirlpool, jet, nice, shower.before, stay, hotel, arrange, car, service, price, 53, tip, reasonable, driver, waiting, arrival.checkin, easy, downside, room, picked, 2, person, jacuzi, tub, bath, accessory, ...]</td>\n",
       "    </tr>\n",
       "    <tr>\n",
       "      <th>3</th>\n",
       "      <td>unique, great stay, wonderful time hotel monaco, location excellent short stroll main downtown shopping area, pet friendly room showed signs animal hair smells, monaco suite sleeping area big striped curtains pulled closed nice touch felt cosy, goldfish named brandi enjoyed, n't partake free wine coffee/tea service lobby thought great feature, great staff friendly, free wireless internet hotel worked suite 2 laptops, decor lovely eclectic mix pattens color palatte, animal print bathrobes feel like rock stars, nice n't look like sterile chain hotel hotel personality excellent stay,</td>\n",
       "      <td>5</td>\n",
       "      <td>89</td>\n",
       "      <td>0.504825</td>\n",
       "      <td>0.691228</td>\n",
       "      <td>Positive</td>\n",
       "      <td>[unique,, great, stay,, wonder, time, hotel, monaco,, locat, excel, short, stroll, main, downtown, shop, area,, pet, friend, room, show, sign, anim, hair, smells,, monaco, suit, sleep, area, big, stripe, curtain, pull, close, nice, touch, felt, cosy,, goldfish, name, brandi, enjoyed,, n't, partak, free, wine, coffee/tea, servic, lobbi, thought, great, feature,, great, staff, friendly,, free, wireless, internet, hotel, work, suit, 2, laptops,, decor, love, eclect, mix, patten, color, palatte,, anim, print, bathrob, feel, like, rock, stars,, nice, n't, look, like, steril, chain, hotel, hotel, person, excel, stay,]</td>\n",
       "      <td>[unique,, great, stay,, wonderful, time, hotel, monaco,, location, excellent, short, stroll, main, downtown, shopping, area,, pet, friendly, room, showed, sign, animal, hair, smells,, monaco, suite, sleeping, area, big, striped, curtain, pulled, closed, nice, touch, felt, cosy,, goldfish, named, brandi, enjoyed,, n't, partake, free, wine, coffee/tea, service, lobby, thought, great, feature,, great, staff, friendly,, free, wireless, internet, hotel, worked, suite, 2, laptops,, decor, lovely, eclectic, mix, patten, color, palatte,, animal, print, bathrobe, feel, like, rock, stars,, nice, n't, look, like, sterile, chain, hotel, hotel, personality, excellent, stay,]</td>\n",
       "    </tr>\n",
       "    <tr>\n",
       "      <th>4</th>\n",
       "      <td>great stay great stay, went seahawk game awesome, downfall view building n't complain, room huge staff helpful, booked hotels website seahawk package, charge parking got voucher taxi, problem taxi driver n't want accept voucher barely spoke english, funny thing speak arabic called started making comments girlfriend cell phone buddy, took second realize said fact speak language face priceless, ass told, said large city, told head doorman issue called cab company promply answer n't, apologized offered pay taxi, bucks 2 miles stadium, game plan taxi return going humpin, great walk n't mind, right christmas wonderful lights, homeless stowed away building entrances leave, police presence greatest area stadium, activities 7 blocks pike street waterfront great coffee shops way, hotel mantained foyer awesome, wine tasting available evening, best dog, taking st. bernard time family, safes hotel located service desk room, bathroom huge jetted tub huge, funny house keeping walked girlfriend getting dressed, n't hear knock turn service, screamed girlfriend screams hit floor laughing, started talking spanish worked, place recommend price, check online deals good better, besite contains deals vouchers travel websites n't tell,</td>\n",
       "      <td>5</td>\n",
       "      <td>191</td>\n",
       "      <td>0.384615</td>\n",
       "      <td>0.629396</td>\n",
       "      <td>Positive</td>\n",
       "      <td>[great, stay, great, stay,, went, seahawk, game, awesome,, downfal, view, build, n't, complain,, room, huge, staff, helpful,, book, hotel, websit, seahawk, package,, charg, park, got, voucher, taxi,, problem, taxi, driver, n't, want, accept, voucher, bare, spoke, english,, funni, thing, speak, arab, call, start, make, comment, girlfriend, cell, phone, buddy,, took, second, realiz, said, fact, speak, languag, face, priceless,, ass, told,, said, larg, city,, told, head, doorman, issu, call, cab, compani, prompli, answer, n't,, apolog, offer, pay, taxi,, buck, 2, mile, stadium,, game, plan, taxi, return, go, humpin,, great, walk, n't, mind,, right, christma, wonder, lights,, homeless, stow, away, build, entranc, ...]</td>\n",
       "      <td>[great, stay, great, stay,, went, seahawk, game, awesome,, downfall, view, building, n't, complain,, room, huge, staff, helpful,, booked, hotel, website, seahawk, package,, charge, parking, got, voucher, taxi,, problem, taxi, driver, n't, want, accept, voucher, barely, spoke, english,, funny, thing, speak, arabic, called, started, making, comment, girlfriend, cell, phone, buddy,, took, second, realize, said, fact, speak, language, face, priceless,, as, told,, said, large, city,, told, head, doorman, issue, called, cab, company, promply, answer, n't,, apologized, offered, pay, taxi,, buck, 2, mile, stadium,, game, plan, taxi, return, going, humpin,, great, walk, n't, mind,, right, christmas, wonderful, lights,, homeless, stowed, away, building, entrance, ...]</td>\n",
       "    </tr>\n",
       "  </tbody>\n",
       "</table>\n",
       "</div>"
      ],
      "text/plain": [
       "                                                                                                                                                                                                                                                                                                                                                                                                                                                                                                                                                                                                                                                                                                                                                                                                                                                                                                                                                                                                                                                                                                                                                                                                                                                                                                                                                                                                                                                                                                                                                                                                                                                                                                      Review  \\\n",
       "0  nice hotel expensive parking got good deal stay hotel anniversary, arrived late evening took advice previous reviews valet parking, check quick easy, little disappointed non-existent view room room clean nice size, bed comfortable woke stiff neck high pillows, soundproof like heard music room night morning loud bangs doors opening closing hear people talking hallway, maybe noisy neighbors, aveda bath products nice, goldfish stay nice touch taken advantage staying longer, location great walking distance shopping, overall nice experience pay 40 parking night,                                                                                                                                                                                                                                                                                                                                                                                                                                                                                                                                                                                                                                                                                                                                                                                                                                                                                                                                                                                                                                                                                                                         \n",
       "1  ok nothing special charge diamond member hilton decided chain shot 20th anniversary seattle, start booked suite paid extra website description not, suite bedroom bathroom standard hotel room, took printed reservation desk showed said things like tv couch ect desk clerk told oh mixed suites description kimpton website sorry free breakfast, got kidding, embassy suits sitting room bathroom bedroom unlike kimpton calls suite, 5 day stay offer correct false advertising, send kimpton preferred guest website email asking failure provide suite advertised website reservation description furnished hard copy reservation printout website desk manager duty reply solution, send email trip guest survey follow email mail, guess tell concerned guest.the staff ranged indifferent helpful, asked desk good breakfast spots neighborhood hood told hotels, gee best breakfast spots seattle 1/2 block away convenient hotel know exist, arrived late night 11 pm inside run bellman busy chating cell phone help bags.prior arrival emailed hotel inform 20th anniversary half really picky wanted make sure good, got nice email saying like deliver bottle champagne chocolate covered strawberries room arrival celebrate, told needed foam pillows, arrival champagne strawberries foam pillows great room view alley high rise building good better housekeeping staff cleaner room property, impressed left morning shopping room got short trips 2 hours, beds comfortable.not good ac-heat control 4 x 4 inch screen bring green shine directly eyes night, light sensitive tape controls.this 4 start hotel clean business hotel super high rates, better chain hotels seattle,   \n",
       "2  nice rooms 4* experience hotel monaco seattle good hotel n't 4* level.positives large bathroom mediterranean suite comfortable bed pillowsattentive housekeeping staffnegatives ac unit malfunctioned stay desk disorganized, missed 3 separate wakeup calls, concierge busy hard touch, n't provide guidance special requests.tv hard use ipod sound dock suite non functioning. decided book mediterranean suite 3 night weekend stay 1st choice rest party filled, comparison w spent 45 night larger square footage room great soaking tub whirlpool jets nice shower.before stay hotel arrange car service price 53 tip reasonable driver waiting arrival.checkin easy downside room picked 2 person jacuzi tub bath accessories salts bubble bath n't stay, night got 12/1a checked voucher bottle champagne nice gesture fish waiting room, impression room huge open space felt room big, tv far away bed chore change channel, ipod dock broken disappointing.in morning way asked desk check thermostat said 65f 74 2 degrees warm try cover face night bright blue light kept, got room night no, 1st drop desk, called maintainence came look thermostat told play settings happy digital box wo n't work, asked wakeup 10am morning n't happen, called later 6pm nap wakeup forgot, 10am wakeup morning yep forgotten.the bathroom facilities great room surprised room sold whirlpool bath tub n't bath amenities, great relax water jets going,                                                                                                                                                                                                                                              \n",
       "3  unique, great stay, wonderful time hotel monaco, location excellent short stroll main downtown shopping area, pet friendly room showed signs animal hair smells, monaco suite sleeping area big striped curtains pulled closed nice touch felt cosy, goldfish named brandi enjoyed, n't partake free wine coffee/tea service lobby thought great feature, great staff friendly, free wireless internet hotel worked suite 2 laptops, decor lovely eclectic mix pattens color palatte, animal print bathrobes feel like rock stars, nice n't look like sterile chain hotel hotel personality excellent stay,                                                                                                                                                                                                                                                                                                                                                                                                                                                                                                                                                                                                                                                                                                                                                                                                                                                                                                                                                                                                                                                                                                 \n",
       "4  great stay great stay, went seahawk game awesome, downfall view building n't complain, room huge staff helpful, booked hotels website seahawk package, charge parking got voucher taxi, problem taxi driver n't want accept voucher barely spoke english, funny thing speak arabic called started making comments girlfriend cell phone buddy, took second realize said fact speak language face priceless, ass told, said large city, told head doorman issue called cab company promply answer n't, apologized offered pay taxi, bucks 2 miles stadium, game plan taxi return going humpin, great walk n't mind, right christmas wonderful lights, homeless stowed away building entrances leave, police presence greatest area stadium, activities 7 blocks pike street waterfront great coffee shops way, hotel mantained foyer awesome, wine tasting available evening, best dog, taking st. bernard time family, safes hotel located service desk room, bathroom huge jetted tub huge, funny house keeping walked girlfriend getting dressed, n't hear knock turn service, screamed girlfriend screams hit floor laughing, started talking spanish worked, place recommend price, check online deals good better, besite contains deals vouchers travel websites n't tell,                                                                                                                                                                                                                                                                                                                                                                                                                            \n",
       "\n",
       "   Rating  Word_count  polarity  Subjectivity polarity_new  \\\n",
       "0  4       87          0.208744  0.687000      Positive      \n",
       "1  2       250         0.214923  0.495009      Positive      \n",
       "2  3       217         0.294420  0.605208      Positive      \n",
       "3  5       89          0.504825  0.691228      Positive      \n",
       "4  5       191         0.384615  0.629396      Positive      \n",
       "\n",
       "                                                                                                                                                                                                                                                                                                                                                                                                                                                                                                                                                                                                                                                                                                                                                                Review_stemming  \\\n",
       "0  [nice, hotel, expens, park, got, good, deal, stay, hotel, anniversary,, arriv, late, even, took, advic, previous, review, valet, parking,, check, quick, easy,, littl, disappoint, non-exist, view, room, room, clean, nice, size,, bed, comfort, woke, stiff, neck, high, pillows,, soundproof, like, heard, music, room, night, morn, loud, bang, door, open, close, hear, peopl, talk, hallway,, mayb, noisi, neighbors,, aveda, bath, product, nice,, goldfish, stay, nice, touch, taken, advantag, stay, longer,, locat, great, walk, distanc, shopping,, overal, nice, experi, pay, 40, park, night,]                                                                                                                                                                    \n",
       "1  [ok, noth, special, charg, diamond, member, hilton, decid, chain, shot, 20th, anniversari, seattle,, start, book, suit, paid, extra, websit, descript, not,, suit, bedroom, bathroom, standard, hotel, room,, took, print, reserv, desk, show, said, thing, like, tv, couch, ect, desk, clerk, told, oh, mix, suit, descript, kimpton, websit, sorri, free, breakfast,, got, kidding,, embassi, suit, sit, room, bathroom, bedroom, unlik, kimpton, call, suite,, 5, day, stay, offer, correct, fals, advertising,, send, kimpton, prefer, guest, websit, email, ask, failur, provid, suit, advertis, websit, reserv, descript, furnish, hard, copi, reserv, printout, websit, desk, manag, duti, repli, solution,, send, email, trip, guest, survey, follow, ...]             \n",
       "2  [nice, room, 4*, experi, hotel, monaco, seattl, good, hotel, n't, 4*, level.posit, larg, bathroom, mediterranean, suit, comfort, bed, pillowsattent, housekeep, staffneg, ac, unit, malfunct, stay, desk, disorganized,, miss, 3, separ, wakeup, calls,, concierg, busi, hard, touch,, n't, provid, guidanc, special, requests.tv, hard, use, ipod, sound, dock, suit, non, functioning., decid, book, mediterranean, suit, 3, night, weekend, stay, 1st, choic, rest, parti, filled,, comparison, w, spent, 45, night, larger, squar, footag, room, great, soak, tub, whirlpool, jet, nice, shower.befor, stay, hotel, arrang, car, servic, price, 53, tip, reason, driver, wait, arrival.checkin, easi, downsid, room, pick, 2, person, jacuzi, tub, bath, accessori, ...]   \n",
       "3  [unique,, great, stay,, wonder, time, hotel, monaco,, locat, excel, short, stroll, main, downtown, shop, area,, pet, friend, room, show, sign, anim, hair, smells,, monaco, suit, sleep, area, big, stripe, curtain, pull, close, nice, touch, felt, cosy,, goldfish, name, brandi, enjoyed,, n't, partak, free, wine, coffee/tea, servic, lobbi, thought, great, feature,, great, staff, friendly,, free, wireless, internet, hotel, work, suit, 2, laptops,, decor, love, eclect, mix, patten, color, palatte,, anim, print, bathrob, feel, like, rock, stars,, nice, n't, look, like, steril, chain, hotel, hotel, person, excel, stay,]                                                                                                                                    \n",
       "4  [great, stay, great, stay,, went, seahawk, game, awesome,, downfal, view, build, n't, complain,, room, huge, staff, helpful,, book, hotel, websit, seahawk, package,, charg, park, got, voucher, taxi,, problem, taxi, driver, n't, want, accept, voucher, bare, spoke, english,, funni, thing, speak, arab, call, start, make, comment, girlfriend, cell, phone, buddy,, took, second, realiz, said, fact, speak, languag, face, priceless,, ass, told,, said, larg, city,, told, head, doorman, issu, call, cab, compani, prompli, answer, n't,, apolog, offer, pay, taxi,, buck, 2, mile, stadium,, game, plan, taxi, return, go, humpin,, great, walk, n't, mind,, right, christma, wonder, lights,, homeless, stow, away, build, entranc, ...]                            \n",
       "\n",
       "                                                                                                                                                                                                                                                                                                                                                                                                                                                                                                                                                                                                                                                                                                                                                                                                                              Review_lemmatize  \n",
       "0  [nice, hotel, expensive, parking, got, good, deal, stay, hotel, anniversary,, arrived, late, evening, took, advice, previous, review, valet, parking,, check, quick, easy,, little, disappointed, non-existent, view, room, room, clean, nice, size,, bed, comfortable, woke, stiff, neck, high, pillows,, soundproof, like, heard, music, room, night, morning, loud, bang, door, opening, closing, hear, people, talking, hallway,, maybe, noisy, neighbors,, aveda, bath, product, nice,, goldfish, stay, nice, touch, taken, advantage, staying, longer,, location, great, walking, distance, shopping,, overall, nice, experience, pay, 40, parking, night,]                                                                                                                                                                            \n",
       "1  [ok, nothing, special, charge, diamond, member, hilton, decided, chain, shot, 20th, anniversary, seattle,, start, booked, suite, paid, extra, website, description, not,, suite, bedroom, bathroom, standard, hotel, room,, took, printed, reservation, desk, showed, said, thing, like, tv, couch, ect, desk, clerk, told, oh, mixed, suite, description, kimpton, website, sorry, free, breakfast,, got, kidding,, embassy, suit, sitting, room, bathroom, bedroom, unlike, kimpton, call, suite,, 5, day, stay, offer, correct, false, advertising,, send, kimpton, preferred, guest, website, email, asking, failure, provide, suite, advertised, website, reservation, description, furnished, hard, copy, reservation, printout, website, desk, manager, duty, reply, solution,, send, email, trip, guest, survey, follow, ...]        \n",
       "2  [nice, room, 4*, experience, hotel, monaco, seattle, good, hotel, n't, 4*, level.positives, large, bathroom, mediterranean, suite, comfortable, bed, pillowsattentive, housekeeping, staffnegatives, ac, unit, malfunctioned, stay, desk, disorganized,, missed, 3, separate, wakeup, calls,, concierge, busy, hard, touch,, n't, provide, guidance, special, requests.tv, hard, use, ipod, sound, dock, suite, non, functioning., decided, book, mediterranean, suite, 3, night, weekend, stay, 1st, choice, rest, party, filled,, comparison, w, spent, 45, night, larger, square, footage, room, great, soaking, tub, whirlpool, jet, nice, shower.before, stay, hotel, arrange, car, service, price, 53, tip, reasonable, driver, waiting, arrival.checkin, easy, downside, room, picked, 2, person, jacuzi, tub, bath, accessory, ...]  \n",
       "3  [unique,, great, stay,, wonderful, time, hotel, monaco,, location, excellent, short, stroll, main, downtown, shopping, area,, pet, friendly, room, showed, sign, animal, hair, smells,, monaco, suite, sleeping, area, big, striped, curtain, pulled, closed, nice, touch, felt, cosy,, goldfish, named, brandi, enjoyed,, n't, partake, free, wine, coffee/tea, service, lobby, thought, great, feature,, great, staff, friendly,, free, wireless, internet, hotel, worked, suite, 2, laptops,, decor, lovely, eclectic, mix, patten, color, palatte,, animal, print, bathrobe, feel, like, rock, stars,, nice, n't, look, like, sterile, chain, hotel, hotel, personality, excellent, stay,]                                                                                                                                               \n",
       "4  [great, stay, great, stay,, went, seahawk, game, awesome,, downfall, view, building, n't, complain,, room, huge, staff, helpful,, booked, hotel, website, seahawk, package,, charge, parking, got, voucher, taxi,, problem, taxi, driver, n't, want, accept, voucher, barely, spoke, english,, funny, thing, speak, arabic, called, started, making, comment, girlfriend, cell, phone, buddy,, took, second, realize, said, fact, speak, language, face, priceless,, as, told,, said, large, city,, told, head, doorman, issue, called, cab, company, promply, answer, n't,, apologized, offered, pay, taxi,, buck, 2, mile, stadium,, game, plan, taxi, return, going, humpin,, great, walk, n't, mind,, right, christmas, wonderful, lights,, homeless, stowed, away, building, entrance, ...]                                             "
      ]
     },
     "execution_count": 38,
     "metadata": {},
     "output_type": "execute_result"
    }
   ],
   "source": [
    "df.head()"
   ]
  },
  {
   "cell_type": "markdown",
   "id": "b26f2cfe-bc09-4202-a58e-2b4e91c942b0",
   "metadata": {},
   "source": [
    "#### make sentences"
   ]
  },
  {
   "cell_type": "code",
   "execution_count": 39,
   "id": "b474bb3b-f9d5-4abc-a341-1680cb1debd0",
   "metadata": {},
   "outputs": [],
   "source": [
    "import re\n",
    "def make_sentences(data,name):\n",
    "    data[name]=data[name].apply(lambda x:' '.join([i+' ' for i in x]))\n",
    "    # Removing double spaces if created\n",
    "    data[name]=data[name].apply(lambda x:re.sub(r'\\s+', ' ', x, flags=re.I))"
   ]
  },
  {
   "cell_type": "code",
   "execution_count": 40,
   "id": "ccbb88a6-7a7e-4b47-bd76-876bbf889f0a",
   "metadata": {},
   "outputs": [],
   "source": [
    "make_sentences(df,'Review_stemming')\n",
    "make_sentences(df,'Review_lemmatize')"
   ]
  },
  {
   "cell_type": "code",
   "execution_count": 41,
   "id": "7b5a8ddc-cb02-414f-8a2b-166862964596",
   "metadata": {},
   "outputs": [
    {
     "data": {
      "text/html": [
       "<div>\n",
       "<style scoped>\n",
       "    .dataframe tbody tr th:only-of-type {\n",
       "        vertical-align: middle;\n",
       "    }\n",
       "\n",
       "    .dataframe tbody tr th {\n",
       "        vertical-align: top;\n",
       "    }\n",
       "\n",
       "    .dataframe thead th {\n",
       "        text-align: right;\n",
       "    }\n",
       "</style>\n",
       "<table border=\"1\" class=\"dataframe\">\n",
       "  <thead>\n",
       "    <tr style=\"text-align: right;\">\n",
       "      <th></th>\n",
       "      <th>Review</th>\n",
       "      <th>Rating</th>\n",
       "      <th>Word_count</th>\n",
       "      <th>polarity</th>\n",
       "      <th>Subjectivity</th>\n",
       "      <th>polarity_new</th>\n",
       "      <th>Review_stemming</th>\n",
       "      <th>Review_lemmatize</th>\n",
       "    </tr>\n",
       "  </thead>\n",
       "  <tbody>\n",
       "    <tr>\n",
       "      <th>0</th>\n",
       "      <td>nice hotel expensive parking got good deal stay hotel anniversary, arrived late evening took advice previous reviews valet parking, check quick easy, little disappointed non-existent view room room clean nice size, bed comfortable woke stiff neck high pillows, soundproof like heard music room night morning loud bangs doors opening closing hear people talking hallway, maybe noisy neighbors, aveda bath products nice, goldfish stay nice touch taken advantage staying longer, location great walking distance shopping, overall nice experience pay 40 parking night,</td>\n",
       "      <td>4</td>\n",
       "      <td>87</td>\n",
       "      <td>0.208744</td>\n",
       "      <td>0.687000</td>\n",
       "      <td>Positive</td>\n",
       "      <td>nice hotel expens park got good deal stay hotel anniversary, arriv late even took advic previous review valet parking, check quick easy, littl disappoint non-exist view room room clean nice size, bed comfort woke stiff neck high pillows, soundproof like heard music room night morn loud bang door open close hear peopl talk hallway, mayb noisi neighbors, aveda bath product nice, goldfish stay nice touch taken advantag stay longer, locat great walk distanc shopping, overal nice experi pay 40 park night,</td>\n",
       "      <td>nice hotel expensive parking got good deal stay hotel anniversary, arrived late evening took advice previous review valet parking, check quick easy, little disappointed non-existent view room room clean nice size, bed comfortable woke stiff neck high pillows, soundproof like heard music room night morning loud bang door opening closing hear people talking hallway, maybe noisy neighbors, aveda bath product nice, goldfish stay nice touch taken advantage staying longer, location great walking distance shopping, overall nice experience pay 40 parking night,</td>\n",
       "    </tr>\n",
       "    <tr>\n",
       "      <th>1</th>\n",
       "      <td>ok nothing special charge diamond member hilton decided chain shot 20th anniversary seattle, start booked suite paid extra website description not, suite bedroom bathroom standard hotel room, took printed reservation desk showed said things like tv couch ect desk clerk told oh mixed suites description kimpton website sorry free breakfast, got kidding, embassy suits sitting room bathroom bedroom unlike kimpton calls suite, 5 day stay offer correct false advertising, send kimpton preferred guest website email asking failure provide suite advertised website reservation description furnished hard copy reservation printout website desk manager duty reply solution, send email trip guest survey follow email mail, guess tell concerned guest.the staff ranged indifferent helpful, asked desk good breakfast spots neighborhood hood told hotels, gee best breakfast spots seattle 1/2 block away convenient hotel know exist, arrived late night 11 pm inside run bellman busy chating cell phone help bags.prior arrival emailed hotel inform 20th anniversary half really picky wanted make sure good, got nice email saying like deliver bottle champagne chocolate covered strawberries room arrival celebrate, told needed foam pillows, arrival champagne strawberries foam pillows great room view alley high rise building good better housekeeping staff cleaner room property, impressed left morning shopping room got short trips 2 hours, beds comfortable.not good ac-heat control 4 x 4 inch screen bring green shine directly eyes night, light sensitive tape controls.this 4 start hotel clean business hotel super high rates, better chain hotels seattle,</td>\n",
       "      <td>2</td>\n",
       "      <td>250</td>\n",
       "      <td>0.214923</td>\n",
       "      <td>0.495009</td>\n",
       "      <td>Positive</td>\n",
       "      <td>ok noth special charg diamond member hilton decid chain shot 20th anniversari seattle, start book suit paid extra websit descript not, suit bedroom bathroom standard hotel room, took print reserv desk show said thing like tv couch ect desk clerk told oh mix suit descript kimpton websit sorri free breakfast, got kidding, embassi suit sit room bathroom bedroom unlik kimpton call suite, 5 day stay offer correct fals advertising, send kimpton prefer guest websit email ask failur provid suit advertis websit reserv descript furnish hard copi reserv printout websit desk manag duti repli solution, send email trip guest survey follow email mail, guess tell concern guest.th staff rang indiffer helpful, ask desk good breakfast spot neighborhood hood told hotels, gee best breakfast spot seattl 1/2 block away conveni hotel know exist, arriv late night 11 pm insid run bellman busi chate cell phone help bags.prior arriv email hotel inform 20th anniversari half realli picki want make sure good, got nice email say like deliv bottl champagn chocol cover strawberri room arriv celebrate, told need foam pillows, arriv champagn strawberri foam pillow great room view alley high rise build good better housekeep staff cleaner room property, impress left morn shop room got short trip 2 hours, bed comfortable.not good ac-heat control 4 x 4 inch screen bring green shine direct eye night, light sensit tape controls.thi 4 start hotel clean busi hotel super high rates, better chain hotel seattle,</td>\n",
       "      <td>ok nothing special charge diamond member hilton decided chain shot 20th anniversary seattle, start booked suite paid extra website description not, suite bedroom bathroom standard hotel room, took printed reservation desk showed said thing like tv couch ect desk clerk told oh mixed suite description kimpton website sorry free breakfast, got kidding, embassy suit sitting room bathroom bedroom unlike kimpton call suite, 5 day stay offer correct false advertising, send kimpton preferred guest website email asking failure provide suite advertised website reservation description furnished hard copy reservation printout website desk manager duty reply solution, send email trip guest survey follow email mail, guess tell concerned guest.the staff ranged indifferent helpful, asked desk good breakfast spot neighborhood hood told hotels, gee best breakfast spot seattle 1/2 block away convenient hotel know exist, arrived late night 11 pm inside run bellman busy chating cell phone help bags.prior arrival emailed hotel inform 20th anniversary half really picky wanted make sure good, got nice email saying like deliver bottle champagne chocolate covered strawberry room arrival celebrate, told needed foam pillows, arrival champagne strawberry foam pillow great room view alley high rise building good better housekeeping staff cleaner room property, impressed left morning shopping room got short trip 2 hours, bed comfortable.not good ac-heat control 4 x 4 inch screen bring green shine directly eye night, light sensitive tape controls.this 4 start hotel clean business hotel super high rates, better chain hotel seattle,</td>\n",
       "    </tr>\n",
       "    <tr>\n",
       "      <th>2</th>\n",
       "      <td>nice rooms 4* experience hotel monaco seattle good hotel n't 4* level.positives large bathroom mediterranean suite comfortable bed pillowsattentive housekeeping staffnegatives ac unit malfunctioned stay desk disorganized, missed 3 separate wakeup calls, concierge busy hard touch, n't provide guidance special requests.tv hard use ipod sound dock suite non functioning. decided book mediterranean suite 3 night weekend stay 1st choice rest party filled, comparison w spent 45 night larger square footage room great soaking tub whirlpool jets nice shower.before stay hotel arrange car service price 53 tip reasonable driver waiting arrival.checkin easy downside room picked 2 person jacuzi tub bath accessories salts bubble bath n't stay, night got 12/1a checked voucher bottle champagne nice gesture fish waiting room, impression room huge open space felt room big, tv far away bed chore change channel, ipod dock broken disappointing.in morning way asked desk check thermostat said 65f 74 2 degrees warm try cover face night bright blue light kept, got room night no, 1st drop desk, called maintainence came look thermostat told play settings happy digital box wo n't work, asked wakeup 10am morning n't happen, called later 6pm nap wakeup forgot, 10am wakeup morning yep forgotten.the bathroom facilities great room surprised room sold whirlpool bath tub n't bath amenities, great relax water jets going,</td>\n",
       "      <td>3</td>\n",
       "      <td>217</td>\n",
       "      <td>0.294420</td>\n",
       "      <td>0.605208</td>\n",
       "      <td>Positive</td>\n",
       "      <td>nice room 4* experi hotel monaco seattl good hotel n't 4* level.posit larg bathroom mediterranean suit comfort bed pillowsattent housekeep staffneg ac unit malfunct stay desk disorganized, miss 3 separ wakeup calls, concierg busi hard touch, n't provid guidanc special requests.tv hard use ipod sound dock suit non functioning. decid book mediterranean suit 3 night weekend stay 1st choic rest parti filled, comparison w spent 45 night larger squar footag room great soak tub whirlpool jet nice shower.befor stay hotel arrang car servic price 53 tip reason driver wait arrival.checkin easi downsid room pick 2 person jacuzi tub bath accessori salt bubbl bath n't stay, night got 12/1a check voucher bottl champagn nice gestur fish wait room, impress room huge open space felt room big, tv far away bed chore chang channel, ipod dock broken disappointing.in morn way ask desk check thermostat said 65f 74 2 degre warm tri cover face night bright blue light kept, got room night no, 1st drop desk, call maintain came look thermostat told play set happi digit box wo n't work, ask wakeup 10am morn n't happen, call later 6pm nap wakeup forgot, 10am wakeup morn yep forgotten.th bathroom facil great room surpris room sold whirlpool bath tub n't bath amenities, great relax water jet going,</td>\n",
       "      <td>nice room 4* experience hotel monaco seattle good hotel n't 4* level.positives large bathroom mediterranean suite comfortable bed pillowsattentive housekeeping staffnegatives ac unit malfunctioned stay desk disorganized, missed 3 separate wakeup calls, concierge busy hard touch, n't provide guidance special requests.tv hard use ipod sound dock suite non functioning. decided book mediterranean suite 3 night weekend stay 1st choice rest party filled, comparison w spent 45 night larger square footage room great soaking tub whirlpool jet nice shower.before stay hotel arrange car service price 53 tip reasonable driver waiting arrival.checkin easy downside room picked 2 person jacuzi tub bath accessory salt bubble bath n't stay, night got 12/1a checked voucher bottle champagne nice gesture fish waiting room, impression room huge open space felt room big, tv far away bed chore change channel, ipod dock broken disappointing.in morning way asked desk check thermostat said 65f 74 2 degree warm try cover face night bright blue light kept, got room night no, 1st drop desk, called maintainence came look thermostat told play setting happy digital box wo n't work, asked wakeup 10am morning n't happen, called later 6pm nap wakeup forgot, 10am wakeup morning yep forgotten.the bathroom facility great room surprised room sold whirlpool bath tub n't bath amenities, great relax water jet going,</td>\n",
       "    </tr>\n",
       "  </tbody>\n",
       "</table>\n",
       "</div>"
      ],
      "text/plain": [
       "                                                                                                                                                                                                                                                                                                                                                                                                                                                                                                                                                                                                                                                                                                                                                                                                                                                                                                                                                                                                                                                                                                                                                                                                                                                                                                                                                                                                                                                                                                                                                                                                                                                                                                      Review  \\\n",
       "0  nice hotel expensive parking got good deal stay hotel anniversary, arrived late evening took advice previous reviews valet parking, check quick easy, little disappointed non-existent view room room clean nice size, bed comfortable woke stiff neck high pillows, soundproof like heard music room night morning loud bangs doors opening closing hear people talking hallway, maybe noisy neighbors, aveda bath products nice, goldfish stay nice touch taken advantage staying longer, location great walking distance shopping, overall nice experience pay 40 parking night,                                                                                                                                                                                                                                                                                                                                                                                                                                                                                                                                                                                                                                                                                                                                                                                                                                                                                                                                                                                                                                                                                                                         \n",
       "1  ok nothing special charge diamond member hilton decided chain shot 20th anniversary seattle, start booked suite paid extra website description not, suite bedroom bathroom standard hotel room, took printed reservation desk showed said things like tv couch ect desk clerk told oh mixed suites description kimpton website sorry free breakfast, got kidding, embassy suits sitting room bathroom bedroom unlike kimpton calls suite, 5 day stay offer correct false advertising, send kimpton preferred guest website email asking failure provide suite advertised website reservation description furnished hard copy reservation printout website desk manager duty reply solution, send email trip guest survey follow email mail, guess tell concerned guest.the staff ranged indifferent helpful, asked desk good breakfast spots neighborhood hood told hotels, gee best breakfast spots seattle 1/2 block away convenient hotel know exist, arrived late night 11 pm inside run bellman busy chating cell phone help bags.prior arrival emailed hotel inform 20th anniversary half really picky wanted make sure good, got nice email saying like deliver bottle champagne chocolate covered strawberries room arrival celebrate, told needed foam pillows, arrival champagne strawberries foam pillows great room view alley high rise building good better housekeeping staff cleaner room property, impressed left morning shopping room got short trips 2 hours, beds comfortable.not good ac-heat control 4 x 4 inch screen bring green shine directly eyes night, light sensitive tape controls.this 4 start hotel clean business hotel super high rates, better chain hotels seattle,   \n",
       "2  nice rooms 4* experience hotel monaco seattle good hotel n't 4* level.positives large bathroom mediterranean suite comfortable bed pillowsattentive housekeeping staffnegatives ac unit malfunctioned stay desk disorganized, missed 3 separate wakeup calls, concierge busy hard touch, n't provide guidance special requests.tv hard use ipod sound dock suite non functioning. decided book mediterranean suite 3 night weekend stay 1st choice rest party filled, comparison w spent 45 night larger square footage room great soaking tub whirlpool jets nice shower.before stay hotel arrange car service price 53 tip reasonable driver waiting arrival.checkin easy downside room picked 2 person jacuzi tub bath accessories salts bubble bath n't stay, night got 12/1a checked voucher bottle champagne nice gesture fish waiting room, impression room huge open space felt room big, tv far away bed chore change channel, ipod dock broken disappointing.in morning way asked desk check thermostat said 65f 74 2 degrees warm try cover face night bright blue light kept, got room night no, 1st drop desk, called maintainence came look thermostat told play settings happy digital box wo n't work, asked wakeup 10am morning n't happen, called later 6pm nap wakeup forgot, 10am wakeup morning yep forgotten.the bathroom facilities great room surprised room sold whirlpool bath tub n't bath amenities, great relax water jets going,                                                                                                                                                                                                                                              \n",
       "\n",
       "   Rating  Word_count  polarity  Subjectivity polarity_new  \\\n",
       "0  4       87          0.208744  0.687000      Positive      \n",
       "1  2       250         0.214923  0.495009      Positive      \n",
       "2  3       217         0.294420  0.605208      Positive      \n",
       "\n",
       "                                                                                                                                                                                                                                                                                                                                                                                                                                                                                                                                                                                                                                                                                                                                                                                                                                                                                                                                                                                                                                                                                                                                                                                                                                                                                                                                                                                                                                                                                                                                       Review_stemming  \\\n",
       "0  nice hotel expens park got good deal stay hotel anniversary, arriv late even took advic previous review valet parking, check quick easy, littl disappoint non-exist view room room clean nice size, bed comfort woke stiff neck high pillows, soundproof like heard music room night morn loud bang door open close hear peopl talk hallway, mayb noisi neighbors, aveda bath product nice, goldfish stay nice touch taken advantag stay longer, locat great walk distanc shopping, overal nice experi pay 40 park night,                                                                                                                                                                                                                                                                                                                                                                                                                                                                                                                                                                                                                                                                                                                                                                                                                                                                                                                                                                                                                             \n",
       "1  ok noth special charg diamond member hilton decid chain shot 20th anniversari seattle, start book suit paid extra websit descript not, suit bedroom bathroom standard hotel room, took print reserv desk show said thing like tv couch ect desk clerk told oh mix suit descript kimpton websit sorri free breakfast, got kidding, embassi suit sit room bathroom bedroom unlik kimpton call suite, 5 day stay offer correct fals advertising, send kimpton prefer guest websit email ask failur provid suit advertis websit reserv descript furnish hard copi reserv printout websit desk manag duti repli solution, send email trip guest survey follow email mail, guess tell concern guest.th staff rang indiffer helpful, ask desk good breakfast spot neighborhood hood told hotels, gee best breakfast spot seattl 1/2 block away conveni hotel know exist, arriv late night 11 pm insid run bellman busi chate cell phone help bags.prior arriv email hotel inform 20th anniversari half realli picki want make sure good, got nice email say like deliv bottl champagn chocol cover strawberri room arriv celebrate, told need foam pillows, arriv champagn strawberri foam pillow great room view alley high rise build good better housekeep staff cleaner room property, impress left morn shop room got short trip 2 hours, bed comfortable.not good ac-heat control 4 x 4 inch screen bring green shine direct eye night, light sensit tape controls.thi 4 start hotel clean busi hotel super high rates, better chain hotel seattle,    \n",
       "2  nice room 4* experi hotel monaco seattl good hotel n't 4* level.posit larg bathroom mediterranean suit comfort bed pillowsattent housekeep staffneg ac unit malfunct stay desk disorganized, miss 3 separ wakeup calls, concierg busi hard touch, n't provid guidanc special requests.tv hard use ipod sound dock suit non functioning. decid book mediterranean suit 3 night weekend stay 1st choic rest parti filled, comparison w spent 45 night larger squar footag room great soak tub whirlpool jet nice shower.befor stay hotel arrang car servic price 53 tip reason driver wait arrival.checkin easi downsid room pick 2 person jacuzi tub bath accessori salt bubbl bath n't stay, night got 12/1a check voucher bottl champagn nice gestur fish wait room, impress room huge open space felt room big, tv far away bed chore chang channel, ipod dock broken disappointing.in morn way ask desk check thermostat said 65f 74 2 degre warm tri cover face night bright blue light kept, got room night no, 1st drop desk, call maintain came look thermostat told play set happi digit box wo n't work, ask wakeup 10am morn n't happen, call later 6pm nap wakeup forgot, 10am wakeup morn yep forgotten.th bathroom facil great room surpris room sold whirlpool bath tub n't bath amenities, great relax water jet going,                                                                                                                                                                                                                \n",
       "\n",
       "                                                                                                                                                                                                                                                                                                                                                                                                                                                                                                                                                                                                                                                                                                                                                                                                                                                                                                                                                                                                                                                                                                                                                                                                                                                                                                                                                                                                                                                                                                                                                                                                                                                                              Review_lemmatize  \n",
       "0  nice hotel expensive parking got good deal stay hotel anniversary, arrived late evening took advice previous review valet parking, check quick easy, little disappointed non-existent view room room clean nice size, bed comfortable woke stiff neck high pillows, soundproof like heard music room night morning loud bang door opening closing hear people talking hallway, maybe noisy neighbors, aveda bath product nice, goldfish stay nice touch taken advantage staying longer, location great walking distance shopping, overall nice experience pay 40 parking night,                                                                                                                                                                                                                                                                                                                                                                                                                                                                                                                                                                                                                                                                                                                                                                                                                                                                                                                                                                                                                                                                                                              \n",
       "1  ok nothing special charge diamond member hilton decided chain shot 20th anniversary seattle, start booked suite paid extra website description not, suite bedroom bathroom standard hotel room, took printed reservation desk showed said thing like tv couch ect desk clerk told oh mixed suite description kimpton website sorry free breakfast, got kidding, embassy suit sitting room bathroom bedroom unlike kimpton call suite, 5 day stay offer correct false advertising, send kimpton preferred guest website email asking failure provide suite advertised website reservation description furnished hard copy reservation printout website desk manager duty reply solution, send email trip guest survey follow email mail, guess tell concerned guest.the staff ranged indifferent helpful, asked desk good breakfast spot neighborhood hood told hotels, gee best breakfast spot seattle 1/2 block away convenient hotel know exist, arrived late night 11 pm inside run bellman busy chating cell phone help bags.prior arrival emailed hotel inform 20th anniversary half really picky wanted make sure good, got nice email saying like deliver bottle champagne chocolate covered strawberry room arrival celebrate, told needed foam pillows, arrival champagne strawberry foam pillow great room view alley high rise building good better housekeeping staff cleaner room property, impressed left morning shopping room got short trip 2 hours, bed comfortable.not good ac-heat control 4 x 4 inch screen bring green shine directly eye night, light sensitive tape controls.this 4 start hotel clean business hotel super high rates, better chain hotel seattle,   \n",
       "2  nice room 4* experience hotel monaco seattle good hotel n't 4* level.positives large bathroom mediterranean suite comfortable bed pillowsattentive housekeeping staffnegatives ac unit malfunctioned stay desk disorganized, missed 3 separate wakeup calls, concierge busy hard touch, n't provide guidance special requests.tv hard use ipod sound dock suite non functioning. decided book mediterranean suite 3 night weekend stay 1st choice rest party filled, comparison w spent 45 night larger square footage room great soaking tub whirlpool jet nice shower.before stay hotel arrange car service price 53 tip reasonable driver waiting arrival.checkin easy downside room picked 2 person jacuzi tub bath accessory salt bubble bath n't stay, night got 12/1a checked voucher bottle champagne nice gesture fish waiting room, impression room huge open space felt room big, tv far away bed chore change channel, ipod dock broken disappointing.in morning way asked desk check thermostat said 65f 74 2 degree warm try cover face night bright blue light kept, got room night no, 1st drop desk, called maintainence came look thermostat told play setting happy digital box wo n't work, asked wakeup 10am morning n't happen, called later 6pm nap wakeup forgot, 10am wakeup morning yep forgotten.the bathroom facility great room surprised room sold whirlpool bath tub n't bath amenities, great relax water jet going,                                                                                                                                                                                                                                         "
      ]
     },
     "execution_count": 41,
     "metadata": {},
     "output_type": "execute_result"
    }
   ],
   "source": [
    "df.head(3)"
   ]
  },
  {
   "cell_type": "markdown",
   "id": "111abddc-802e-410e-a617-33c3845e6aab",
   "metadata": {},
   "source": [
    "### D. Word cloud"
   ]
  },
  {
   "cell_type": "code",
   "execution_count": 42,
   "id": "ba723c64-ddd7-449d-8432-d3777ceac8ff",
   "metadata": {},
   "outputs": [
    {
     "data": {
      "text/plain": [
       "'nice hotel expens park got good deal stay hotel anniversary, arriv late even took advic previous review valet parking, check quick easy, littl disappoint non-exist view room room clean nice size, bed '"
      ]
     },
     "execution_count": 42,
     "metadata": {},
     "output_type": "execute_result"
    }
   ],
   "source": [
    "rev_stemming = \" \".join([review for review in df['Review_stemming']])\n",
    "rev_stemming[:200]"
   ]
  },
  {
   "cell_type": "code",
   "execution_count": 43,
   "id": "f8c4a4fd-24b2-4ae2-926e-1b7969c22454",
   "metadata": {},
   "outputs": [
    {
     "data": {
      "text/plain": [
       "'nice hotel expensive parking got good deal stay hotel anniversary, arrived late evening took advice previous review valet parking, check quick easy, little disappointed non-existent view room room cle'"
      ]
     },
     "execution_count": 43,
     "metadata": {},
     "output_type": "execute_result"
    }
   ],
   "source": [
    "rev_lmtz = \" \".join([review for review in df['Review_lemmatize']])\n",
    "rev_lmtz[:200]"
   ]
  },
  {
   "cell_type": "code",
   "execution_count": 44,
   "id": "26fdb6bf-45bc-4449-bb73-7bfada6c2a23",
   "metadata": {},
   "outputs": [
    {
     "ename": "ModuleNotFoundError",
     "evalue": "No module named 'wordcloud'",
     "output_type": "error",
     "traceback": [
      "\u001b[0;31m---------------------------------------------------------------------------\u001b[0m",
      "\u001b[0;31mModuleNotFoundError\u001b[0m                       Traceback (most recent call last)",
      "Cell \u001b[0;32mIn[44], line 1\u001b[0m\n\u001b[0;32m----> 1\u001b[0m \u001b[38;5;28;01mfrom\u001b[39;00m \u001b[38;5;21;01mwordcloud\u001b[39;00m \u001b[38;5;28;01mimport\u001b[39;00m WordCloud\n\u001b[1;32m      3\u001b[0m plt\u001b[38;5;241m.\u001b[39mfigure(figsize\u001b[38;5;241m=\u001b[39m(\u001b[38;5;241m15\u001b[39m,\u001b[38;5;241m10\u001b[39m))\n\u001b[1;32m      4\u001b[0m wc\u001b[38;5;241m=\u001b[39m WordCloud(max_words\u001b[38;5;241m=\u001b[39m\u001b[38;5;241m200\u001b[39m,height\u001b[38;5;241m=\u001b[39m \u001b[38;5;241m800\u001b[39m, width\u001b[38;5;241m=\u001b[39m\u001b[38;5;241m1000\u001b[39m ,background_color\u001b[38;5;241m=\u001b[39m\u001b[38;5;124m'\u001b[39m\u001b[38;5;124mblack\u001b[39m\u001b[38;5;124m'\u001b[39m)\u001b[38;5;241m.\u001b[39mgenerate(rev_stemming)\n",
      "\u001b[0;31mModuleNotFoundError\u001b[0m: No module named 'wordcloud'"
     ]
    }
   ],
   "source": [
    "from wordcloud import WordCloud\n",
    "\n",
    "plt.figure(figsize=(15,10))\n",
    "wc= WordCloud(max_words=200,height= 800, width=1000 ,background_color='black').generate(rev_stemming)\n",
    "plt.imshow(wc)"
   ]
  },
  {
   "cell_type": "code",
   "execution_count": 45,
   "id": "d34e9f2f-8acd-47e3-9bdc-1bf0b4f04d60",
   "metadata": {},
   "outputs": [
    {
     "ename": "ModuleNotFoundError",
     "evalue": "No module named 'wordcloud'",
     "output_type": "error",
     "traceback": [
      "\u001b[0;31m---------------------------------------------------------------------------\u001b[0m",
      "\u001b[0;31mModuleNotFoundError\u001b[0m                       Traceback (most recent call last)",
      "Cell \u001b[0;32mIn[45], line 1\u001b[0m\n\u001b[0;32m----> 1\u001b[0m \u001b[38;5;28;01mfrom\u001b[39;00m \u001b[38;5;21;01mwordcloud\u001b[39;00m \u001b[38;5;28;01mimport\u001b[39;00m WordCloud\n\u001b[1;32m      3\u001b[0m plt\u001b[38;5;241m.\u001b[39mfigure(figsize\u001b[38;5;241m=\u001b[39m(\u001b[38;5;241m15\u001b[39m,\u001b[38;5;241m10\u001b[39m))\n\u001b[1;32m      4\u001b[0m wc\u001b[38;5;241m=\u001b[39m WordCloud(max_words\u001b[38;5;241m=\u001b[39m\u001b[38;5;241m200\u001b[39m,height\u001b[38;5;241m=\u001b[39m \u001b[38;5;241m800\u001b[39m, width\u001b[38;5;241m=\u001b[39m\u001b[38;5;241m1000\u001b[39m ,background_color\u001b[38;5;241m=\u001b[39m\u001b[38;5;124m'\u001b[39m\u001b[38;5;124mblack\u001b[39m\u001b[38;5;124m'\u001b[39m)\u001b[38;5;241m.\u001b[39mgenerate(rev_lmtz)\n",
      "\u001b[0;31mModuleNotFoundError\u001b[0m: No module named 'wordcloud'"
     ]
    }
   ],
   "source": [
    "from wordcloud import WordCloud\n",
    "\n",
    "plt.figure(figsize=(15,10))\n",
    "wc= WordCloud(max_words=200,height= 800, width=1000 ,background_color='black').generate(rev_lmtz)\n",
    "plt.imshow(wc)"
   ]
  },
  {
   "cell_type": "markdown",
   "id": "8f8c8ff3-f7c4-4e34-ac09-41914a6ffbe0",
   "metadata": {},
   "source": [
    "#### Create sentiment feature"
   ]
  },
  {
   "cell_type": "code",
   "execution_count": 46,
   "id": "8597ea1e-3532-435f-b82c-f10b30d949ce",
   "metadata": {},
   "outputs": [],
   "source": [
    "def sentiment(review):\n",
    "    if review>=3:\n",
    "        return 1\n",
    "    else:\n",
    "        return 0\n",
    "df['Sentiment']= df['Rating'].apply(sentiment)"
   ]
  },
  {
   "cell_type": "code",
   "execution_count": 47,
   "id": "62c16ef9-80bf-4ab1-a6e0-f27be927763c",
   "metadata": {},
   "outputs": [
    {
     "data": {
      "text/html": [
       "<div>\n",
       "<style scoped>\n",
       "    .dataframe tbody tr th:only-of-type {\n",
       "        vertical-align: middle;\n",
       "    }\n",
       "\n",
       "    .dataframe tbody tr th {\n",
       "        vertical-align: top;\n",
       "    }\n",
       "\n",
       "    .dataframe thead th {\n",
       "        text-align: right;\n",
       "    }\n",
       "</style>\n",
       "<table border=\"1\" class=\"dataframe\">\n",
       "  <thead>\n",
       "    <tr style=\"text-align: right;\">\n",
       "      <th></th>\n",
       "      <th>Review</th>\n",
       "      <th>Rating</th>\n",
       "      <th>Word_count</th>\n",
       "      <th>polarity</th>\n",
       "      <th>Subjectivity</th>\n",
       "      <th>polarity_new</th>\n",
       "      <th>Review_stemming</th>\n",
       "      <th>Review_lemmatize</th>\n",
       "      <th>Sentiment</th>\n",
       "    </tr>\n",
       "  </thead>\n",
       "  <tbody>\n",
       "    <tr>\n",
       "      <th>0</th>\n",
       "      <td>nice hotel expensive parking got good deal stay hotel anniversary, arrived late evening took advice previous reviews valet parking, check quick easy, little disappointed non-existent view room room clean nice size, bed comfortable woke stiff neck high pillows, soundproof like heard music room night morning loud bangs doors opening closing hear people talking hallway, maybe noisy neighbors, aveda bath products nice, goldfish stay nice touch taken advantage staying longer, location great walking distance shopping, overall nice experience pay 40 parking night,</td>\n",
       "      <td>4</td>\n",
       "      <td>87</td>\n",
       "      <td>0.208744</td>\n",
       "      <td>0.687000</td>\n",
       "      <td>Positive</td>\n",
       "      <td>nice hotel expens park got good deal stay hotel anniversary, arriv late even took advic previous review valet parking, check quick easy, littl disappoint non-exist view room room clean nice size, bed comfort woke stiff neck high pillows, soundproof like heard music room night morn loud bang door open close hear peopl talk hallway, mayb noisi neighbors, aveda bath product nice, goldfish stay nice touch taken advantag stay longer, locat great walk distanc shopping, overal nice experi pay 40 park night,</td>\n",
       "      <td>nice hotel expensive parking got good deal stay hotel anniversary, arrived late evening took advice previous review valet parking, check quick easy, little disappointed non-existent view room room clean nice size, bed comfortable woke stiff neck high pillows, soundproof like heard music room night morning loud bang door opening closing hear people talking hallway, maybe noisy neighbors, aveda bath product nice, goldfish stay nice touch taken advantage staying longer, location great walking distance shopping, overall nice experience pay 40 parking night,</td>\n",
       "      <td>1</td>\n",
       "    </tr>\n",
       "    <tr>\n",
       "      <th>1</th>\n",
       "      <td>ok nothing special charge diamond member hilton decided chain shot 20th anniversary seattle, start booked suite paid extra website description not, suite bedroom bathroom standard hotel room, took printed reservation desk showed said things like tv couch ect desk clerk told oh mixed suites description kimpton website sorry free breakfast, got kidding, embassy suits sitting room bathroom bedroom unlike kimpton calls suite, 5 day stay offer correct false advertising, send kimpton preferred guest website email asking failure provide suite advertised website reservation description furnished hard copy reservation printout website desk manager duty reply solution, send email trip guest survey follow email mail, guess tell concerned guest.the staff ranged indifferent helpful, asked desk good breakfast spots neighborhood hood told hotels, gee best breakfast spots seattle 1/2 block away convenient hotel know exist, arrived late night 11 pm inside run bellman busy chating cell phone help bags.prior arrival emailed hotel inform 20th anniversary half really picky wanted make sure good, got nice email saying like deliver bottle champagne chocolate covered strawberries room arrival celebrate, told needed foam pillows, arrival champagne strawberries foam pillows great room view alley high rise building good better housekeeping staff cleaner room property, impressed left morning shopping room got short trips 2 hours, beds comfortable.not good ac-heat control 4 x 4 inch screen bring green shine directly eyes night, light sensitive tape controls.this 4 start hotel clean business hotel super high rates, better chain hotels seattle,</td>\n",
       "      <td>2</td>\n",
       "      <td>250</td>\n",
       "      <td>0.214923</td>\n",
       "      <td>0.495009</td>\n",
       "      <td>Positive</td>\n",
       "      <td>ok noth special charg diamond member hilton decid chain shot 20th anniversari seattle, start book suit paid extra websit descript not, suit bedroom bathroom standard hotel room, took print reserv desk show said thing like tv couch ect desk clerk told oh mix suit descript kimpton websit sorri free breakfast, got kidding, embassi suit sit room bathroom bedroom unlik kimpton call suite, 5 day stay offer correct fals advertising, send kimpton prefer guest websit email ask failur provid suit advertis websit reserv descript furnish hard copi reserv printout websit desk manag duti repli solution, send email trip guest survey follow email mail, guess tell concern guest.th staff rang indiffer helpful, ask desk good breakfast spot neighborhood hood told hotels, gee best breakfast spot seattl 1/2 block away conveni hotel know exist, arriv late night 11 pm insid run bellman busi chate cell phone help bags.prior arriv email hotel inform 20th anniversari half realli picki want make sure good, got nice email say like deliv bottl champagn chocol cover strawberri room arriv celebrate, told need foam pillows, arriv champagn strawberri foam pillow great room view alley high rise build good better housekeep staff cleaner room property, impress left morn shop room got short trip 2 hours, bed comfortable.not good ac-heat control 4 x 4 inch screen bring green shine direct eye night, light sensit tape controls.thi 4 start hotel clean busi hotel super high rates, better chain hotel seattle,</td>\n",
       "      <td>ok nothing special charge diamond member hilton decided chain shot 20th anniversary seattle, start booked suite paid extra website description not, suite bedroom bathroom standard hotel room, took printed reservation desk showed said thing like tv couch ect desk clerk told oh mixed suite description kimpton website sorry free breakfast, got kidding, embassy suit sitting room bathroom bedroom unlike kimpton call suite, 5 day stay offer correct false advertising, send kimpton preferred guest website email asking failure provide suite advertised website reservation description furnished hard copy reservation printout website desk manager duty reply solution, send email trip guest survey follow email mail, guess tell concerned guest.the staff ranged indifferent helpful, asked desk good breakfast spot neighborhood hood told hotels, gee best breakfast spot seattle 1/2 block away convenient hotel know exist, arrived late night 11 pm inside run bellman busy chating cell phone help bags.prior arrival emailed hotel inform 20th anniversary half really picky wanted make sure good, got nice email saying like deliver bottle champagne chocolate covered strawberry room arrival celebrate, told needed foam pillows, arrival champagne strawberry foam pillow great room view alley high rise building good better housekeeping staff cleaner room property, impressed left morning shopping room got short trip 2 hours, bed comfortable.not good ac-heat control 4 x 4 inch screen bring green shine directly eye night, light sensitive tape controls.this 4 start hotel clean business hotel super high rates, better chain hotel seattle,</td>\n",
       "      <td>0</td>\n",
       "    </tr>\n",
       "    <tr>\n",
       "      <th>2</th>\n",
       "      <td>nice rooms 4* experience hotel monaco seattle good hotel n't 4* level.positives large bathroom mediterranean suite comfortable bed pillowsattentive housekeeping staffnegatives ac unit malfunctioned stay desk disorganized, missed 3 separate wakeup calls, concierge busy hard touch, n't provide guidance special requests.tv hard use ipod sound dock suite non functioning. decided book mediterranean suite 3 night weekend stay 1st choice rest party filled, comparison w spent 45 night larger square footage room great soaking tub whirlpool jets nice shower.before stay hotel arrange car service price 53 tip reasonable driver waiting arrival.checkin easy downside room picked 2 person jacuzi tub bath accessories salts bubble bath n't stay, night got 12/1a checked voucher bottle champagne nice gesture fish waiting room, impression room huge open space felt room big, tv far away bed chore change channel, ipod dock broken disappointing.in morning way asked desk check thermostat said 65f 74 2 degrees warm try cover face night bright blue light kept, got room night no, 1st drop desk, called maintainence came look thermostat told play settings happy digital box wo n't work, asked wakeup 10am morning n't happen, called later 6pm nap wakeup forgot, 10am wakeup morning yep forgotten.the bathroom facilities great room surprised room sold whirlpool bath tub n't bath amenities, great relax water jets going,</td>\n",
       "      <td>3</td>\n",
       "      <td>217</td>\n",
       "      <td>0.294420</td>\n",
       "      <td>0.605208</td>\n",
       "      <td>Positive</td>\n",
       "      <td>nice room 4* experi hotel monaco seattl good hotel n't 4* level.posit larg bathroom mediterranean suit comfort bed pillowsattent housekeep staffneg ac unit malfunct stay desk disorganized, miss 3 separ wakeup calls, concierg busi hard touch, n't provid guidanc special requests.tv hard use ipod sound dock suit non functioning. decid book mediterranean suit 3 night weekend stay 1st choic rest parti filled, comparison w spent 45 night larger squar footag room great soak tub whirlpool jet nice shower.befor stay hotel arrang car servic price 53 tip reason driver wait arrival.checkin easi downsid room pick 2 person jacuzi tub bath accessori salt bubbl bath n't stay, night got 12/1a check voucher bottl champagn nice gestur fish wait room, impress room huge open space felt room big, tv far away bed chore chang channel, ipod dock broken disappointing.in morn way ask desk check thermostat said 65f 74 2 degre warm tri cover face night bright blue light kept, got room night no, 1st drop desk, call maintain came look thermostat told play set happi digit box wo n't work, ask wakeup 10am morn n't happen, call later 6pm nap wakeup forgot, 10am wakeup morn yep forgotten.th bathroom facil great room surpris room sold whirlpool bath tub n't bath amenities, great relax water jet going,</td>\n",
       "      <td>nice room 4* experience hotel monaco seattle good hotel n't 4* level.positives large bathroom mediterranean suite comfortable bed pillowsattentive housekeeping staffnegatives ac unit malfunctioned stay desk disorganized, missed 3 separate wakeup calls, concierge busy hard touch, n't provide guidance special requests.tv hard use ipod sound dock suite non functioning. decided book mediterranean suite 3 night weekend stay 1st choice rest party filled, comparison w spent 45 night larger square footage room great soaking tub whirlpool jet nice shower.before stay hotel arrange car service price 53 tip reasonable driver waiting arrival.checkin easy downside room picked 2 person jacuzi tub bath accessory salt bubble bath n't stay, night got 12/1a checked voucher bottle champagne nice gesture fish waiting room, impression room huge open space felt room big, tv far away bed chore change channel, ipod dock broken disappointing.in morning way asked desk check thermostat said 65f 74 2 degree warm try cover face night bright blue light kept, got room night no, 1st drop desk, called maintainence came look thermostat told play setting happy digital box wo n't work, asked wakeup 10am morning n't happen, called later 6pm nap wakeup forgot, 10am wakeup morning yep forgotten.the bathroom facility great room surprised room sold whirlpool bath tub n't bath amenities, great relax water jet going,</td>\n",
       "      <td>1</td>\n",
       "    </tr>\n",
       "  </tbody>\n",
       "</table>\n",
       "</div>"
      ],
      "text/plain": [
       "                                                                                                                                                                                                                                                                                                                                                                                                                                                                                                                                                                                                                                                                                                                                                                                                                                                                                                                                                                                                                                                                                                                                                                                                                                                                                                                                                                                                                                                                                                                                                                                                                                                                                                      Review  \\\n",
       "0  nice hotel expensive parking got good deal stay hotel anniversary, arrived late evening took advice previous reviews valet parking, check quick easy, little disappointed non-existent view room room clean nice size, bed comfortable woke stiff neck high pillows, soundproof like heard music room night morning loud bangs doors opening closing hear people talking hallway, maybe noisy neighbors, aveda bath products nice, goldfish stay nice touch taken advantage staying longer, location great walking distance shopping, overall nice experience pay 40 parking night,                                                                                                                                                                                                                                                                                                                                                                                                                                                                                                                                                                                                                                                                                                                                                                                                                                                                                                                                                                                                                                                                                                                         \n",
       "1  ok nothing special charge diamond member hilton decided chain shot 20th anniversary seattle, start booked suite paid extra website description not, suite bedroom bathroom standard hotel room, took printed reservation desk showed said things like tv couch ect desk clerk told oh mixed suites description kimpton website sorry free breakfast, got kidding, embassy suits sitting room bathroom bedroom unlike kimpton calls suite, 5 day stay offer correct false advertising, send kimpton preferred guest website email asking failure provide suite advertised website reservation description furnished hard copy reservation printout website desk manager duty reply solution, send email trip guest survey follow email mail, guess tell concerned guest.the staff ranged indifferent helpful, asked desk good breakfast spots neighborhood hood told hotels, gee best breakfast spots seattle 1/2 block away convenient hotel know exist, arrived late night 11 pm inside run bellman busy chating cell phone help bags.prior arrival emailed hotel inform 20th anniversary half really picky wanted make sure good, got nice email saying like deliver bottle champagne chocolate covered strawberries room arrival celebrate, told needed foam pillows, arrival champagne strawberries foam pillows great room view alley high rise building good better housekeeping staff cleaner room property, impressed left morning shopping room got short trips 2 hours, beds comfortable.not good ac-heat control 4 x 4 inch screen bring green shine directly eyes night, light sensitive tape controls.this 4 start hotel clean business hotel super high rates, better chain hotels seattle,   \n",
       "2  nice rooms 4* experience hotel monaco seattle good hotel n't 4* level.positives large bathroom mediterranean suite comfortable bed pillowsattentive housekeeping staffnegatives ac unit malfunctioned stay desk disorganized, missed 3 separate wakeup calls, concierge busy hard touch, n't provide guidance special requests.tv hard use ipod sound dock suite non functioning. decided book mediterranean suite 3 night weekend stay 1st choice rest party filled, comparison w spent 45 night larger square footage room great soaking tub whirlpool jets nice shower.before stay hotel arrange car service price 53 tip reasonable driver waiting arrival.checkin easy downside room picked 2 person jacuzi tub bath accessories salts bubble bath n't stay, night got 12/1a checked voucher bottle champagne nice gesture fish waiting room, impression room huge open space felt room big, tv far away bed chore change channel, ipod dock broken disappointing.in morning way asked desk check thermostat said 65f 74 2 degrees warm try cover face night bright blue light kept, got room night no, 1st drop desk, called maintainence came look thermostat told play settings happy digital box wo n't work, asked wakeup 10am morning n't happen, called later 6pm nap wakeup forgot, 10am wakeup morning yep forgotten.the bathroom facilities great room surprised room sold whirlpool bath tub n't bath amenities, great relax water jets going,                                                                                                                                                                                                                                              \n",
       "\n",
       "   Rating  Word_count  polarity  Subjectivity polarity_new  \\\n",
       "0  4       87          0.208744  0.687000      Positive      \n",
       "1  2       250         0.214923  0.495009      Positive      \n",
       "2  3       217         0.294420  0.605208      Positive      \n",
       "\n",
       "                                                                                                                                                                                                                                                                                                                                                                                                                                                                                                                                                                                                                                                                                                                                                                                                                                                                                                                                                                                                                                                                                                                                                                                                                                                                                                                                                                                                                                                                                                                                       Review_stemming  \\\n",
       "0  nice hotel expens park got good deal stay hotel anniversary, arriv late even took advic previous review valet parking, check quick easy, littl disappoint non-exist view room room clean nice size, bed comfort woke stiff neck high pillows, soundproof like heard music room night morn loud bang door open close hear peopl talk hallway, mayb noisi neighbors, aveda bath product nice, goldfish stay nice touch taken advantag stay longer, locat great walk distanc shopping, overal nice experi pay 40 park night,                                                                                                                                                                                                                                                                                                                                                                                                                                                                                                                                                                                                                                                                                                                                                                                                                                                                                                                                                                                                                             \n",
       "1  ok noth special charg diamond member hilton decid chain shot 20th anniversari seattle, start book suit paid extra websit descript not, suit bedroom bathroom standard hotel room, took print reserv desk show said thing like tv couch ect desk clerk told oh mix suit descript kimpton websit sorri free breakfast, got kidding, embassi suit sit room bathroom bedroom unlik kimpton call suite, 5 day stay offer correct fals advertising, send kimpton prefer guest websit email ask failur provid suit advertis websit reserv descript furnish hard copi reserv printout websit desk manag duti repli solution, send email trip guest survey follow email mail, guess tell concern guest.th staff rang indiffer helpful, ask desk good breakfast spot neighborhood hood told hotels, gee best breakfast spot seattl 1/2 block away conveni hotel know exist, arriv late night 11 pm insid run bellman busi chate cell phone help bags.prior arriv email hotel inform 20th anniversari half realli picki want make sure good, got nice email say like deliv bottl champagn chocol cover strawberri room arriv celebrate, told need foam pillows, arriv champagn strawberri foam pillow great room view alley high rise build good better housekeep staff cleaner room property, impress left morn shop room got short trip 2 hours, bed comfortable.not good ac-heat control 4 x 4 inch screen bring green shine direct eye night, light sensit tape controls.thi 4 start hotel clean busi hotel super high rates, better chain hotel seattle,    \n",
       "2  nice room 4* experi hotel monaco seattl good hotel n't 4* level.posit larg bathroom mediterranean suit comfort bed pillowsattent housekeep staffneg ac unit malfunct stay desk disorganized, miss 3 separ wakeup calls, concierg busi hard touch, n't provid guidanc special requests.tv hard use ipod sound dock suit non functioning. decid book mediterranean suit 3 night weekend stay 1st choic rest parti filled, comparison w spent 45 night larger squar footag room great soak tub whirlpool jet nice shower.befor stay hotel arrang car servic price 53 tip reason driver wait arrival.checkin easi downsid room pick 2 person jacuzi tub bath accessori salt bubbl bath n't stay, night got 12/1a check voucher bottl champagn nice gestur fish wait room, impress room huge open space felt room big, tv far away bed chore chang channel, ipod dock broken disappointing.in morn way ask desk check thermostat said 65f 74 2 degre warm tri cover face night bright blue light kept, got room night no, 1st drop desk, call maintain came look thermostat told play set happi digit box wo n't work, ask wakeup 10am morn n't happen, call later 6pm nap wakeup forgot, 10am wakeup morn yep forgotten.th bathroom facil great room surpris room sold whirlpool bath tub n't bath amenities, great relax water jet going,                                                                                                                                                                                                                \n",
       "\n",
       "                                                                                                                                                                                                                                                                                                                                                                                                                                                                                                                                                                                                                                                                                                                                                                                                                                                                                                                                                                                                                                                                                                                                                                                                                                                                                                                                                                                                                                                                                                                                                                                                                                                                              Review_lemmatize  \\\n",
       "0  nice hotel expensive parking got good deal stay hotel anniversary, arrived late evening took advice previous review valet parking, check quick easy, little disappointed non-existent view room room clean nice size, bed comfortable woke stiff neck high pillows, soundproof like heard music room night morning loud bang door opening closing hear people talking hallway, maybe noisy neighbors, aveda bath product nice, goldfish stay nice touch taken advantage staying longer, location great walking distance shopping, overall nice experience pay 40 parking night,                                                                                                                                                                                                                                                                                                                                                                                                                                                                                                                                                                                                                                                                                                                                                                                                                                                                                                                                                                                                                                                                                                               \n",
       "1  ok nothing special charge diamond member hilton decided chain shot 20th anniversary seattle, start booked suite paid extra website description not, suite bedroom bathroom standard hotel room, took printed reservation desk showed said thing like tv couch ect desk clerk told oh mixed suite description kimpton website sorry free breakfast, got kidding, embassy suit sitting room bathroom bedroom unlike kimpton call suite, 5 day stay offer correct false advertising, send kimpton preferred guest website email asking failure provide suite advertised website reservation description furnished hard copy reservation printout website desk manager duty reply solution, send email trip guest survey follow email mail, guess tell concerned guest.the staff ranged indifferent helpful, asked desk good breakfast spot neighborhood hood told hotels, gee best breakfast spot seattle 1/2 block away convenient hotel know exist, arrived late night 11 pm inside run bellman busy chating cell phone help bags.prior arrival emailed hotel inform 20th anniversary half really picky wanted make sure good, got nice email saying like deliver bottle champagne chocolate covered strawberry room arrival celebrate, told needed foam pillows, arrival champagne strawberry foam pillow great room view alley high rise building good better housekeeping staff cleaner room property, impressed left morning shopping room got short trip 2 hours, bed comfortable.not good ac-heat control 4 x 4 inch screen bring green shine directly eye night, light sensitive tape controls.this 4 start hotel clean business hotel super high rates, better chain hotel seattle,    \n",
       "2  nice room 4* experience hotel monaco seattle good hotel n't 4* level.positives large bathroom mediterranean suite comfortable bed pillowsattentive housekeeping staffnegatives ac unit malfunctioned stay desk disorganized, missed 3 separate wakeup calls, concierge busy hard touch, n't provide guidance special requests.tv hard use ipod sound dock suite non functioning. decided book mediterranean suite 3 night weekend stay 1st choice rest party filled, comparison w spent 45 night larger square footage room great soaking tub whirlpool jet nice shower.before stay hotel arrange car service price 53 tip reasonable driver waiting arrival.checkin easy downside room picked 2 person jacuzi tub bath accessory salt bubble bath n't stay, night got 12/1a checked voucher bottle champagne nice gesture fish waiting room, impression room huge open space felt room big, tv far away bed chore change channel, ipod dock broken disappointing.in morning way asked desk check thermostat said 65f 74 2 degree warm try cover face night bright blue light kept, got room night no, 1st drop desk, called maintainence came look thermostat told play setting happy digital box wo n't work, asked wakeup 10am morning n't happen, called later 6pm nap wakeup forgot, 10am wakeup morning yep forgotten.the bathroom facility great room surprised room sold whirlpool bath tub n't bath amenities, great relax water jet going,                                                                                                                                                                                                                                          \n",
       "\n",
       "   Sentiment  \n",
       "0  1          \n",
       "1  0          \n",
       "2  1          "
      ]
     },
     "execution_count": 47,
     "metadata": {},
     "output_type": "execute_result"
    }
   ],
   "source": [
    "df.head(3)"
   ]
  },
  {
   "cell_type": "markdown",
   "id": "af8f70d8-d70b-45a9-8304-f9b2f9554781",
   "metadata": {},
   "source": [
    "## 6.Creating our model"
   ]
  },
  {
   "cell_type": "code",
   "execution_count": 48,
   "id": "fd0b95d3-034e-4734-b646-0a0b7c841577",
   "metadata": {},
   "outputs": [],
   "source": [
    "from sklearn.model_selection import train_test_split\n",
    "X= df['Review_stemming']\n",
    "Y= df['Sentiment']\n",
    "\n",
    "X_train, X_test,y_train, y_test= train_test_split(X, Y, test_size=0.25, stratify=Y)"
   ]
  },
  {
   "cell_type": "markdown",
   "id": "9d5b4caf-8653-42e1-8026-eb50466cd8e1",
   "metadata": {},
   "source": [
    "### Vectorization(Tfidf)"
   ]
  },
  {
   "cell_type": "code",
   "execution_count": 49,
   "id": "d2398e1c-4c1b-4c81-b8ce-8de94f0c1411",
   "metadata": {},
   "outputs": [],
   "source": [
    "from sklearn.feature_extraction.text import TfidfVectorizer\n",
    "tfidf= TfidfVectorizer(max_features=10000, tokenizer= word_tokenize,ngram_range=(1,2) )\n",
    "X_train_tfidf= tfidf.fit_transform(X_train.values)\n",
    "X_test_tfidf= tfidf.transform(X_test.values)"
   ]
  },
  {
   "cell_type": "code",
   "execution_count": 59,
   "id": "34dc10ba-a835-4bb8-be2a-917e640e7a1b",
   "metadata": {},
   "outputs": [],
   "source": [
    "X_tfidf= tfidf.fit_transform(X.values)"
   ]
  },
  {
   "cell_type": "markdown",
   "id": "48ab5982-7ce6-4bba-ade3-53be5132a5eb",
   "metadata": {},
   "source": [
    "# A. Logistic regression"
   ]
  },
  {
   "cell_type": "code",
   "execution_count": 50,
   "id": "b5bc244a-2d2e-4ab3-b604-12db51369d6b",
   "metadata": {},
   "outputs": [],
   "source": [
    "from sklearn.linear_model import LogisticRegression\n",
    "\n",
    "lr= LogisticRegression()\n",
    "lr.fit(X_train_tfidf, y_train)\n",
    "y_pred_tfidf = lr.predict(X_test_tfidf)"
   ]
  },
  {
   "cell_type": "code",
   "execution_count": 51,
   "id": "060c9ce8-e516-4c13-8bdc-d1fef1a431d7",
   "metadata": {},
   "outputs": [
    {
     "name": "stdout",
     "output_type": "stream",
     "text": [
      "[[ 481  323]\n",
      " [  53 4266]]\n",
      "0.926605504587156\n",
      "              precision    recall  f1-score   support\n",
      "\n",
      "           0       0.90      0.60      0.72       804\n",
      "           1       0.93      0.99      0.96      4319\n",
      "\n",
      "    accuracy                           0.93      5123\n",
      "   macro avg       0.92      0.79      0.84      5123\n",
      "weighted avg       0.93      0.93      0.92      5123\n",
      "\n",
      "0.926605504587156\n"
     ]
    }
   ],
   "source": [
    "from sklearn.metrics import confusion_matrix,classification_report,accuracy_score\n",
    "\n",
    "print(confusion_matrix(y_test,y_pred_tfidf))\n",
    "print(accuracy_score(y_test,y_pred_tfidf))\n",
    "print(classification_report(y_test,y_pred_tfidf))\n",
    "print(accuracy_score(y_test, y_pred_tfidf))"
   ]
  },
  {
   "cell_type": "code",
   "execution_count": 60,
   "id": "5112afe1-9242-437a-923c-b82711c219e9",
   "metadata": {},
   "outputs": [
    {
     "name": "stdout",
     "output_type": "stream",
     "text": [
      "Điểm số từ cross-validation:  [0.9275433  0.92264519 0.91898487 0.92703758 0.91605661]\n",
      "Điểm số trung bình:  0.9224535117958398\n"
     ]
    }
   ],
   "source": [
    "from sklearn.model_selection import cross_val_score\n",
    "scores = cross_val_score(lr, X_tfidf, Y, cv=5)\n",
    "\n",
    "# In ra các điểm số từ cross-validation\n",
    "print(\"Điểm số từ cross-validation: \", scores)\n",
    "print(\"Điểm số trung bình: \", scores.mean())"
   ]
  },
  {
   "cell_type": "markdown",
   "id": "db3afe34-c003-4b37-ad17-cbe9132044ab",
   "metadata": {},
   "source": [
    "# B. Random Forest"
   ]
  },
  {
   "cell_type": "code",
   "execution_count": 52,
   "id": "d9db53e3-00e7-4ab2-a7e0-bdda50c1681f",
   "metadata": {},
   "outputs": [],
   "source": [
    "from sklearn.ensemble import RandomForestClassifier\n",
    "clf = RandomForestClassifier(n_estimators=20, random_state=0)\n",
    "clf.fit(X_train_tfidf,y_train)\n",
    "y_pred = clf.predict(X_test_tfidf)"
   ]
  },
  {
   "cell_type": "code",
   "execution_count": 53,
   "id": "825b60ce-14d6-4346-b59d-69aa5c37350c",
   "metadata": {},
   "outputs": [
    {
     "name": "stdout",
     "output_type": "stream",
     "text": [
      "[[ 313  491]\n",
      " [  33 4286]]\n",
      "              precision    recall  f1-score   support\n",
      "\n",
      "           0       0.90      0.39      0.54       804\n",
      "           1       0.90      0.99      0.94      4319\n",
      "\n",
      "    accuracy                           0.90      5123\n",
      "   macro avg       0.90      0.69      0.74      5123\n",
      "weighted avg       0.90      0.90      0.88      5123\n",
      "\n",
      "0.8977161819246535\n"
     ]
    }
   ],
   "source": [
    "print(confusion_matrix(y_test,y_pred))  \n",
    "print(classification_report(y_test,y_pred))  \n",
    "print(accuracy_score(y_test, y_pred))"
   ]
  },
  {
   "cell_type": "code",
   "execution_count": 58,
   "id": "1967a065-ff16-4ed2-a241-221a39b45ad0",
   "metadata": {},
   "outputs": [
    {
     "name": "stdout",
     "output_type": "stream",
     "text": [
      "Điểm số từ cross-validation:  [0.90241522 0.89067838 0.88897023 0.89043436 0.8909224 ]\n",
      "Điểm số trung bình:  0.8926841183395204\n"
     ]
    }
   ],
   "source": [
    "from sklearn.model_selection import cross_val_score\n",
    "scores = cross_val_score(clf, X_tfidf, Y, cv=5)\n",
    "\n",
    "# In ra các điểm số từ cross-validation\n",
    "print(\"Điểm số từ cross-validation: \", scores)\n",
    "print(\"Điểm số trung bình: \", scores.mean())"
   ]
  },
  {
   "cell_type": "markdown",
   "id": "aa72f98b-431b-4f98-9506-a067f619e975",
   "metadata": {},
   "source": [
    "# C. Naive Bayes"
   ]
  },
  {
   "cell_type": "code",
   "execution_count": 54,
   "id": "bb388722-1752-4f8c-a128-46ad60139206",
   "metadata": {},
   "outputs": [
    {
     "name": "stdout",
     "output_type": "stream",
     "text": [
      "[[ 596  208]\n",
      " [ 663 3656]]\n",
      "              precision    recall  f1-score   support\n",
      "\n",
      "           0       0.47      0.74      0.58       804\n",
      "           1       0.95      0.85      0.89      4319\n",
      "\n",
      "    accuracy                           0.83      5123\n",
      "   macro avg       0.71      0.79      0.74      5123\n",
      "weighted avg       0.87      0.83      0.84      5123\n",
      "\n",
      "0.8299824321686512\n"
     ]
    }
   ],
   "source": [
    "X_train_tfidf = X_train_tfidf.toarray()\n",
    "X_test_tfidf = X_test_tfidf.toarray()\n",
    "\n",
    "from sklearn.naive_bayes import GaussianNB\n",
    "classifier = GaussianNB()\n",
    "y_pred  =  classifier.fit(X_train_tfidf,y_train).predict(X_test_tfidf)\n",
    "\n",
    "print(confusion_matrix(y_test,y_pred))  \n",
    "print(classification_report(y_test,y_pred))  \n",
    "print(accuracy_score(y_test, y_pred))"
   ]
  },
  {
   "cell_type": "markdown",
   "id": "83c14ac9-ae00-499c-923a-012a0647b9d2",
   "metadata": {},
   "source": [
    "# D. SVM"
   ]
  },
  {
   "cell_type": "code",
   "execution_count": null,
   "id": "ce6a914c-d66d-4f01-a630-94e300600301",
   "metadata": {},
   "outputs": [],
   "source": []
  },
  {
   "cell_type": "markdown",
   "id": "52c1878c-d8a2-410f-bee0-98aa536e297e",
   "metadata": {},
   "source": [
    "# 7. Cross-classification"
   ]
  },
  {
   "cell_type": "code",
   "execution_count": 58,
   "id": "4e63437d-66a8-4f52-8ffd-fa5b38670d06",
   "metadata": {},
   "outputs": [],
   "source": [
    "from sklearn.model_selection import learning_curve\n",
    "def cross_validation(estimator):\n",
    "    _, train_scores, test_scores = learning_curve(estimator, X_train_tfidf, y_train, cv=10, n_jobs=-1, train_sizes=[1.0, ], scoring=\"accuracy\")\n",
    "    test_scores = test_scores[0]\n",
    "    mean, std = test_scores.mean(), test_scores.std()\n",
    "    return mean, std\n",
    "\n",
    "def plot(title, xlabel, X, Y, error, ylabel = \"Accuracy\"):\n",
    "    plt.xlabel(xlabel)\n",
    "    plt.title(title)\n",
    "    plt.grid()\n",
    "    plt.ylabel(ylabel)\n",
    "    plt.errorbar(X, Y, error, linestyle='None', marker='o')"
   ]
  },
  {
   "cell_type": "markdown",
   "id": "aa9e0439-85ce-4759-a5f9-164fd833aa42",
   "metadata": {},
   "source": [
    "### a. Random forest"
   ]
  },
  {
   "cell_type": "code",
   "execution_count": 59,
   "id": "b7d56033-62d2-45ab-aad7-525db397609b",
   "metadata": {},
   "outputs": [
    {
     "data": {
      "image/png": "[encoded data removed]",
      "text/plain": [
       "<Figure size 640x480 with 1 Axes>"
      ]
     },
     "metadata": {},
     "output_type": "display_data"
    }
   ],
   "source": [
    "from sklearn.datasets import make_classification\n",
    "from sklearn.model_selection import cross_val_score\n",
    "\n",
    "title = \"change n_estimators, criterion = gini\"\n",
    "x_label = \"n_estimators\"\n",
    "X = []\n",
    "Y = []\n",
    "error = []\n",
    "\n",
    "n_estimators = [10, 20, 50, 75, 100, 300]\n",
    "for n in n_estimators:\n",
    "    clf_text = RandomForestClassifier(n_estimators = n, random_state=0)\n",
    "    mean, std = cross_validation(clf_text)\n",
    "    X.append(str(n))\n",
    "    Y.append(mean)\n",
    "    error.append(std)\n",
    "plot(title, x_label, X, Y, error)\n",
    "plt.show()"
   ]
  },
  {
   "cell_type": "markdown",
   "id": "d1f9139a-06c5-44ac-866f-879853cecfbb",
   "metadata": {},
   "source": [
    "#### Thus, with n_estimators = 20, accuracy is max"
   ]
  },
  {
   "cell_type": "code",
   "execution_count": null,
   "id": "dafd1d2c-5130-48bf-827a-f69da1f44237",
   "metadata": {},
   "outputs": [],
   "source": []
  }
 ],
 "metadata": {
  "kernelspec": {
   "display_name": "Python 3 (ipykernel)",
   "language": "python",
   "name": "python3"
  },
  "language_info": {
   "codemirror_mode": {
    "name": "ipython",
    "version": 3
   },
   "file_extension": ".py",
   "mimetype": "text/x-python",
   "name": "python",
   "nbconvert_exporter": "python",
   "pygments_lexer": "ipython3",
   "version": "3.10.11"
  }
 },
 "nbformat": 4,
 "nbformat_minor": 5
}
